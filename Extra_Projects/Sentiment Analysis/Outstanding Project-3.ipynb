{
 "cells": [
  {
   "cell_type": "markdown",
   "metadata": {},
   "source": [
    "# Verzeo - Outstanding Project-3\n",
    "\n",
    "### Done by : Sanjay Marreddi  \n",
    "### Email Id  : sanjay.marreddi.19041@iitgoa.ac.in\n",
    "    "
   ]
  },
  {
   "cell_type": "markdown",
   "metadata": {},
   "source": [
    "#### First let us import the required Libraries"
   ]
  },
  {
   "cell_type": "code",
   "execution_count": 1,
   "metadata": {},
   "outputs": [],
   "source": [
    "import re\n",
    "import nltk\n",
    "import numpy as np\n",
    "import pandas as pd\n",
    "import seaborn as sns\n",
    "import matplotlib.pyplot as plt\n",
    "\n",
    "from sklearn.metrics import accuracy_score\n",
    "from sklearn.naive_bayes import MultinomialNB\n",
    "from sklearn.preprocessing import LabelEncoder\n",
    "from sklearn.model_selection import train_test_split\n",
    "from sklearn.feature_extraction.text import CountVectorizer\n",
    "\n",
    "from newspaper import Article \n",
    "from nltk.corpus import stopwords\n",
    "from nltk.stem import PorterStemmer\n",
    "from nltk.corpus import wordnet as wn\n",
    "from nltk.tokenize import word_tokenize,sent_tokenize\n",
    "\n",
    "%matplotlib inline"
   ]
  },
  {
   "cell_type": "markdown",
   "metadata": {},
   "source": [
    "#### Let us read the Dataset for training our Model\n",
    "**I have used a Dataset from KAGGLE named `Sentiment Analysis for Financial News`**"
   ]
  },
  {
   "cell_type": "code",
   "execution_count": 2,
   "metadata": {},
   "outputs": [],
   "source": [
    "news_data = pd.read_excel('news.xlsx')"
   ]
  },
  {
   "cell_type": "code",
   "execution_count": 3,
   "metadata": {},
   "outputs": [],
   "source": [
    "# Naming the Columns\n",
    "news_data.columns = [\"Sentiment\",\"Text\"]"
   ]
  },
  {
   "cell_type": "markdown",
   "metadata": {},
   "source": [
    "# Data Understanding, Preparation and EDA "
   ]
  },
  {
   "cell_type": "code",
   "execution_count": 4,
   "metadata": {},
   "outputs": [
    {
     "data": {
      "text/html": [
       "<div>\n",
       "<style scoped>\n",
       "    .dataframe tbody tr th:only-of-type {\n",
       "        vertical-align: middle;\n",
       "    }\n",
       "\n",
       "    .dataframe tbody tr th {\n",
       "        vertical-align: top;\n",
       "    }\n",
       "\n",
       "    .dataframe thead th {\n",
       "        text-align: right;\n",
       "    }\n",
       "</style>\n",
       "<table border=\"1\" class=\"dataframe\">\n",
       "  <thead>\n",
       "    <tr style=\"text-align: right;\">\n",
       "      <th></th>\n",
       "      <th>Sentiment</th>\n",
       "      <th>Text</th>\n",
       "    </tr>\n",
       "  </thead>\n",
       "  <tbody>\n",
       "    <tr>\n",
       "      <th>0</th>\n",
       "      <td>neutral</td>\n",
       "      <td>Technopolis plans to develop in stages an area...</td>\n",
       "    </tr>\n",
       "    <tr>\n",
       "      <th>1</th>\n",
       "      <td>negative</td>\n",
       "      <td>The international electronic industry company ...</td>\n",
       "    </tr>\n",
       "    <tr>\n",
       "      <th>2</th>\n",
       "      <td>positive</td>\n",
       "      <td>With the new production plant the company woul...</td>\n",
       "    </tr>\n",
       "    <tr>\n",
       "      <th>3</th>\n",
       "      <td>positive</td>\n",
       "      <td>According to the company 's updated strategy f...</td>\n",
       "    </tr>\n",
       "    <tr>\n",
       "      <th>4</th>\n",
       "      <td>positive</td>\n",
       "      <td>FINANCING OF ASPOCOMP 'S GROWTH Aspocomp is ag...</td>\n",
       "    </tr>\n",
       "  </tbody>\n",
       "</table>\n",
       "</div>"
      ],
      "text/plain": [
       "  Sentiment                                               Text\n",
       "0   neutral  Technopolis plans to develop in stages an area...\n",
       "1  negative  The international electronic industry company ...\n",
       "2  positive  With the new production plant the company woul...\n",
       "3  positive  According to the company 's updated strategy f...\n",
       "4  positive  FINANCING OF ASPOCOMP 'S GROWTH Aspocomp is ag..."
      ]
     },
     "execution_count": 4,
     "metadata": {},
     "output_type": "execute_result"
    }
   ],
   "source": [
    "news_data.head()"
   ]
  },
  {
   "cell_type": "code",
   "execution_count": 5,
   "metadata": {},
   "outputs": [
    {
     "data": {
      "text/html": [
       "<div>\n",
       "<style scoped>\n",
       "    .dataframe tbody tr th:only-of-type {\n",
       "        vertical-align: middle;\n",
       "    }\n",
       "\n",
       "    .dataframe tbody tr th {\n",
       "        vertical-align: top;\n",
       "    }\n",
       "\n",
       "    .dataframe thead th {\n",
       "        text-align: right;\n",
       "    }\n",
       "</style>\n",
       "<table border=\"1\" class=\"dataframe\">\n",
       "  <thead>\n",
       "    <tr style=\"text-align: right;\">\n",
       "      <th></th>\n",
       "      <th>Sentiment</th>\n",
       "      <th>Text</th>\n",
       "    </tr>\n",
       "  </thead>\n",
       "  <tbody>\n",
       "    <tr>\n",
       "      <th>count</th>\n",
       "      <td>4845</td>\n",
       "      <td>4845</td>\n",
       "    </tr>\n",
       "    <tr>\n",
       "      <th>unique</th>\n",
       "      <td>3</td>\n",
       "      <td>4837</td>\n",
       "    </tr>\n",
       "    <tr>\n",
       "      <th>top</th>\n",
       "      <td>neutral</td>\n",
       "      <td>The report profiles 614 companies including ma...</td>\n",
       "    </tr>\n",
       "    <tr>\n",
       "      <th>freq</th>\n",
       "      <td>2878</td>\n",
       "      <td>2</td>\n",
       "    </tr>\n",
       "  </tbody>\n",
       "</table>\n",
       "</div>"
      ],
      "text/plain": [
       "       Sentiment                                               Text\n",
       "count       4845                                               4845\n",
       "unique         3                                               4837\n",
       "top      neutral  The report profiles 614 companies including ma...\n",
       "freq        2878                                                  2"
      ]
     },
     "execution_count": 5,
     "metadata": {},
     "output_type": "execute_result"
    }
   ],
   "source": [
    "news_data.describe()"
   ]
  },
  {
   "cell_type": "code",
   "execution_count": 6,
   "metadata": {},
   "outputs": [
    {
     "name": "stdout",
     "output_type": "stream",
     "text": [
      "<class 'pandas.core.frame.DataFrame'>\n",
      "RangeIndex: 4845 entries, 0 to 4844\n",
      "Data columns (total 2 columns):\n",
      " #   Column     Non-Null Count  Dtype \n",
      "---  ------     --------------  ----- \n",
      " 0   Sentiment  4845 non-null   object\n",
      " 1   Text       4845 non-null   object\n",
      "dtypes: object(2)\n",
      "memory usage: 75.8+ KB\n"
     ]
    }
   ],
   "source": [
    "news_data.info()"
   ]
  },
  {
   "cell_type": "code",
   "execution_count": 7,
   "metadata": {},
   "outputs": [
    {
     "data": {
      "text/plain": [
       "Series([], dtype: int64)"
      ]
     },
     "execution_count": 7,
     "metadata": {},
     "output_type": "execute_result"
    }
   ],
   "source": [
    "# Checking the Number of Missing Values in each Column of the DataFrame\n",
    "\n",
    "no_of_null_columwise = news_data.isnull().sum() \n",
    "\n",
    "no_of_null_columwise[lambda x : x>0] "
   ]
  },
  {
   "cell_type": "markdown",
   "metadata": {},
   "source": [
    "#### Now We have no Null Values in our Dataframe !"
   ]
  },
  {
   "cell_type": "code",
   "execution_count": 8,
   "metadata": {},
   "outputs": [
    {
     "data": {
      "image/png": "[encoded data removed]",
      "text/plain": [
       "<Figure size 432x288 with 1 Axes>"
      ]
     },
     "metadata": {
      "needs_background": "light"
     },
     "output_type": "display_data"
    }
   ],
   "source": [
    "# Visualising the Distribution of Dataset\n",
    "\n",
    "news_data['Sentiment'].value_counts().plot(kind=\"bar\")\n",
    "plt.show()"
   ]
  },
  {
   "cell_type": "markdown",
   "metadata": {},
   "source": [
    "#### Data Cleaning of \"Text\" column"
   ]
  },
  {
   "cell_type": "code",
   "execution_count": 9,
   "metadata": {},
   "outputs": [],
   "source": [
    "list_of_stopwords = list(stopwords.words('english'))"
   ]
  },
  {
   "cell_type": "code",
   "execution_count": 10,
   "metadata": {},
   "outputs": [],
   "source": [
    "# Taking only those rows which has type of description str. \n",
    "\n",
    "temp=[]\n",
    "for i in range(news_data.shape[0]):\n",
    "    temp.append(type(news_data['Text'].values[i]) == str)"
   ]
  },
  {
   "cell_type": "code",
   "execution_count": 11,
   "metadata": {},
   "outputs": [],
   "source": [
    "news_data = news_data.loc[temp,:]"
   ]
  },
  {
   "cell_type": "code",
   "execution_count": 12,
   "metadata": {},
   "outputs": [],
   "source": [
    "stemmer = PorterStemmer()\n",
    "words = stopwords.words(\"english\")\n",
    "\n",
    "# Data Cleaning using regex.\n",
    "\n",
    "news_data['cleaned_text'] = news_data['Text'].apply(lambda x: \" \".join([stemmer.stem(i) for i in re.sub(\"[^a-zA-Z]\", \" \", x).split() if i not in words]).lower())"
   ]
  },
  {
   "cell_type": "code",
   "execution_count": 13,
   "metadata": {},
   "outputs": [
    {
     "data": {
      "text/html": [
       "<div>\n",
       "<style scoped>\n",
       "    .dataframe tbody tr th:only-of-type {\n",
       "        vertical-align: middle;\n",
       "    }\n",
       "\n",
       "    .dataframe tbody tr th {\n",
       "        vertical-align: top;\n",
       "    }\n",
       "\n",
       "    .dataframe thead th {\n",
       "        text-align: right;\n",
       "    }\n",
       "</style>\n",
       "<table border=\"1\" class=\"dataframe\">\n",
       "  <thead>\n",
       "    <tr style=\"text-align: right;\">\n",
       "      <th></th>\n",
       "      <th>Sentiment</th>\n",
       "      <th>Text</th>\n",
       "      <th>cleaned_text</th>\n",
       "    </tr>\n",
       "  </thead>\n",
       "  <tbody>\n",
       "    <tr>\n",
       "      <th>0</th>\n",
       "      <td>neutral</td>\n",
       "      <td>Technopolis plans to develop in stages an area...</td>\n",
       "      <td>technopoli plan develop stage area less squar ...</td>\n",
       "    </tr>\n",
       "    <tr>\n",
       "      <th>1</th>\n",
       "      <td>negative</td>\n",
       "      <td>The international electronic industry company ...</td>\n",
       "      <td>the intern electron industri compani elcoteq l...</td>\n",
       "    </tr>\n",
       "    <tr>\n",
       "      <th>2</th>\n",
       "      <td>positive</td>\n",
       "      <td>With the new production plant the company woul...</td>\n",
       "      <td>with new product plant compani would increas c...</td>\n",
       "    </tr>\n",
       "    <tr>\n",
       "      <th>3</th>\n",
       "      <td>positive</td>\n",
       "      <td>According to the company 's updated strategy f...</td>\n",
       "      <td>accord compani updat strategi year baswar targ...</td>\n",
       "    </tr>\n",
       "    <tr>\n",
       "      <th>4</th>\n",
       "      <td>positive</td>\n",
       "      <td>FINANCING OF ASPOCOMP 'S GROWTH Aspocomp is ag...</td>\n",
       "      <td>financ of aspocomp s growth aspocomp aggress p...</td>\n",
       "    </tr>\n",
       "  </tbody>\n",
       "</table>\n",
       "</div>"
      ],
      "text/plain": [
       "  Sentiment                                               Text  \\\n",
       "0   neutral  Technopolis plans to develop in stages an area...   \n",
       "1  negative  The international electronic industry company ...   \n",
       "2  positive  With the new production plant the company woul...   \n",
       "3  positive  According to the company 's updated strategy f...   \n",
       "4  positive  FINANCING OF ASPOCOMP 'S GROWTH Aspocomp is ag...   \n",
       "\n",
       "                                        cleaned_text  \n",
       "0  technopoli plan develop stage area less squar ...  \n",
       "1  the intern electron industri compani elcoteq l...  \n",
       "2  with new product plant compani would increas c...  \n",
       "3  accord compani updat strategi year baswar targ...  \n",
       "4  financ of aspocomp s growth aspocomp aggress p...  "
      ]
     },
     "execution_count": 13,
     "metadata": {},
     "output_type": "execute_result"
    }
   ],
   "source": [
    "news_data.head()"
   ]
  },
  {
   "cell_type": "code",
   "execution_count": 14,
   "metadata": {},
   "outputs": [],
   "source": [
    "X_news_data =  news_data[[\"cleaned_text\"]]   # Independent Variable\n",
    "\n",
    "y_news_data = news_data[[\"Sentiment\"]]       # Dependent Variables"
   ]
  },
  {
   "cell_type": "code",
   "execution_count": 15,
   "metadata": {},
   "outputs": [
    {
     "name": "stdout",
     "output_type": "stream",
     "text": [
      "(4845, 1)\n"
     ]
    },
    {
     "data": {
      "text/html": [
       "<div>\n",
       "<style scoped>\n",
       "    .dataframe tbody tr th:only-of-type {\n",
       "        vertical-align: middle;\n",
       "    }\n",
       "\n",
       "    .dataframe tbody tr th {\n",
       "        vertical-align: top;\n",
       "    }\n",
       "\n",
       "    .dataframe thead th {\n",
       "        text-align: right;\n",
       "    }\n",
       "</style>\n",
       "<table border=\"1\" class=\"dataframe\">\n",
       "  <thead>\n",
       "    <tr style=\"text-align: right;\">\n",
       "      <th></th>\n",
       "      <th>cleaned_text</th>\n",
       "    </tr>\n",
       "  </thead>\n",
       "  <tbody>\n",
       "    <tr>\n",
       "      <th>0</th>\n",
       "      <td>technopoli plan develop stage area less squar ...</td>\n",
       "    </tr>\n",
       "    <tr>\n",
       "      <th>1</th>\n",
       "      <td>the intern electron industri compani elcoteq l...</td>\n",
       "    </tr>\n",
       "    <tr>\n",
       "      <th>2</th>\n",
       "      <td>with new product plant compani would increas c...</td>\n",
       "    </tr>\n",
       "    <tr>\n",
       "      <th>3</th>\n",
       "      <td>accord compani updat strategi year baswar targ...</td>\n",
       "    </tr>\n",
       "    <tr>\n",
       "      <th>4</th>\n",
       "      <td>financ of aspocomp s growth aspocomp aggress p...</td>\n",
       "    </tr>\n",
       "  </tbody>\n",
       "</table>\n",
       "</div>"
      ],
      "text/plain": [
       "                                        cleaned_text\n",
       "0  technopoli plan develop stage area less squar ...\n",
       "1  the intern electron industri compani elcoteq l...\n",
       "2  with new product plant compani would increas c...\n",
       "3  accord compani updat strategi year baswar targ...\n",
       "4  financ of aspocomp s growth aspocomp aggress p..."
      ]
     },
     "execution_count": 15,
     "metadata": {},
     "output_type": "execute_result"
    }
   ],
   "source": [
    "print (X_news_data.shape)\n",
    "X_news_data.head()"
   ]
  },
  {
   "cell_type": "code",
   "execution_count": 16,
   "metadata": {},
   "outputs": [
    {
     "name": "stdout",
     "output_type": "stream",
     "text": [
      "(4845, 1)\n"
     ]
    },
    {
     "data": {
      "text/html": [
       "<div>\n",
       "<style scoped>\n",
       "    .dataframe tbody tr th:only-of-type {\n",
       "        vertical-align: middle;\n",
       "    }\n",
       "\n",
       "    .dataframe tbody tr th {\n",
       "        vertical-align: top;\n",
       "    }\n",
       "\n",
       "    .dataframe thead th {\n",
       "        text-align: right;\n",
       "    }\n",
       "</style>\n",
       "<table border=\"1\" class=\"dataframe\">\n",
       "  <thead>\n",
       "    <tr style=\"text-align: right;\">\n",
       "      <th></th>\n",
       "      <th>Sentiment</th>\n",
       "    </tr>\n",
       "  </thead>\n",
       "  <tbody>\n",
       "    <tr>\n",
       "      <th>0</th>\n",
       "      <td>neutral</td>\n",
       "    </tr>\n",
       "    <tr>\n",
       "      <th>1</th>\n",
       "      <td>negative</td>\n",
       "    </tr>\n",
       "    <tr>\n",
       "      <th>2</th>\n",
       "      <td>positive</td>\n",
       "    </tr>\n",
       "    <tr>\n",
       "      <th>3</th>\n",
       "      <td>positive</td>\n",
       "    </tr>\n",
       "    <tr>\n",
       "      <th>4</th>\n",
       "      <td>positive</td>\n",
       "    </tr>\n",
       "  </tbody>\n",
       "</table>\n",
       "</div>"
      ],
      "text/plain": [
       "  Sentiment\n",
       "0   neutral\n",
       "1  negative\n",
       "2  positive\n",
       "3  positive\n",
       "4  positive"
      ]
     },
     "execution_count": 16,
     "metadata": {},
     "output_type": "execute_result"
    }
   ],
   "source": [
    "print(y_news_data.shape)\n",
    "y_news_data.head()"
   ]
  },
  {
   "cell_type": "markdown",
   "metadata": {},
   "source": [
    "##### Label Encoding the gender column for ease of Calculation "
   ]
  },
  {
   "cell_type": "code",
   "execution_count": 17,
   "metadata": {},
   "outputs": [
    {
     "name": "stderr",
     "output_type": "stream",
     "text": [
      "<ipython-input-17-7ec61c336c37>:3: SettingWithCopyWarning: \n",
      "A value is trying to be set on a copy of a slice from a DataFrame.\n",
      "Try using .loc[row_indexer,col_indexer] = value instead\n",
      "\n",
      "See the caveats in the documentation: https://pandas.pydata.org/pandas-docs/stable/user_guide/indexing.html#returning-a-view-versus-a-copy\n",
      "  y_news_data['Sentiment'] = label_enc.fit_transform(y_news_data[\"Sentiment\"])\n"
     ]
    }
   ],
   "source": [
    "label_enc = LabelEncoder()\n",
    "\n",
    "y_news_data['Sentiment'] = label_enc.fit_transform(y_news_data[\"Sentiment\"]) "
   ]
  },
  {
   "cell_type": "code",
   "execution_count": 18,
   "metadata": {},
   "outputs": [
    {
     "data": {
      "text/html": [
       "<div>\n",
       "<style scoped>\n",
       "    .dataframe tbody tr th:only-of-type {\n",
       "        vertical-align: middle;\n",
       "    }\n",
       "\n",
       "    .dataframe tbody tr th {\n",
       "        vertical-align: top;\n",
       "    }\n",
       "\n",
       "    .dataframe thead th {\n",
       "        text-align: right;\n",
       "    }\n",
       "</style>\n",
       "<table border=\"1\" class=\"dataframe\">\n",
       "  <thead>\n",
       "    <tr style=\"text-align: right;\">\n",
       "      <th></th>\n",
       "      <th>Sentiment</th>\n",
       "    </tr>\n",
       "  </thead>\n",
       "  <tbody>\n",
       "    <tr>\n",
       "      <th>0</th>\n",
       "      <td>1</td>\n",
       "    </tr>\n",
       "    <tr>\n",
       "      <th>1</th>\n",
       "      <td>0</td>\n",
       "    </tr>\n",
       "    <tr>\n",
       "      <th>2</th>\n",
       "      <td>2</td>\n",
       "    </tr>\n",
       "    <tr>\n",
       "      <th>3</th>\n",
       "      <td>2</td>\n",
       "    </tr>\n",
       "    <tr>\n",
       "      <th>4</th>\n",
       "      <td>2</td>\n",
       "    </tr>\n",
       "  </tbody>\n",
       "</table>\n",
       "</div>"
      ],
      "text/plain": [
       "   Sentiment\n",
       "0          1\n",
       "1          0\n",
       "2          2\n",
       "3          2\n",
       "4          2"
      ]
     },
     "execution_count": 18,
     "metadata": {},
     "output_type": "execute_result"
    }
   ],
   "source": [
    "y_news_data.head()"
   ]
  },
  {
   "cell_type": "markdown",
   "metadata": {},
   "source": [
    "#### So we have Encoded the variables as follows : \n",
    "    \n",
    "- 0 - Negative\n",
    "- 1 - Nuetral\n",
    "- 2 - Positive"
   ]
  },
  {
   "cell_type": "markdown",
   "metadata": {},
   "source": [
    "## Web Scrapping\n",
    "\n",
    "- I have collected data from 3 different news channels namely `Hindustan Times`,`Deccan Chronicle`, `Times of India`\n",
    "- From each Channel I have collected the URL's of Top 10 Articles published on 29-October-2020\n",
    "- Then using the Library `Article` I scrapped the data from those 30 Articles for our Sentiment Analysis"
   ]
  },
  {
   "cell_type": "code",
   "execution_count": 19,
   "metadata": {},
   "outputs": [],
   "source": [
    "# Lists of URL's Collected\n",
    "\n",
    "Hindustan_29_urls =[\"https://www.hindustantimes.com/cricket/ipl-2020-kl-rahul-reacts-to-being-named-india-s-limited-overs-vice-captain-for-australia-tour/story-GpQpSx6sgSmoE2rNdIZyuI.html\",\"https://www.hindustantimes.com/columns/the-taste-with-vir-nice-church-attack-it-s-stupid-to-say-the-terror-attack-in-france-was-not-motivated-by-religion/story-5HgjnfUiv7xLvM3ZPIMEnM.html\",\"https://www.hindustantimes.com/analysis/nalayak-gadkari-diagnosed-bureaucratic-malaise-modi-must-inject-the-cure-analysis/story-FqVFVVZQVU4KRSVjYYfN0N.html\",\"https://www.hindustantimes.com/world-news/if-joe-biden-wins-presidential-election-what-would-us-climate-change-pledge-look-like/story-X8DpoenEUhEAYkqOOQSp5M.html\",\"https://www.hindustantimes.com/india-news/shouldn-t-try-to-play-victim-india-roasts-pakistan-for-objecting-to-indo-us-statement/story-M2lbNQ30uxwqI7ENNvhzBM.html\",\"https://www.hindustantimes.com/india-news/india-stands-with-france-in-fight-against-terrorism-pm-modi-condemns-nice-knife-attack/story-QOcfASpJGVHvr6e9n7jC1H.html\",\"https://www.hindustantimes.com/india-news/officials-who-embarrassed-govt-with-rti-response-on-aarogya-setu-face-action/story-L3i7wkvkHgiDGRKfg9qxuK.html\",\"https://www.hindustantimes.com/world-news/french-police-2-dead-in-knife-attack-near-church-in-nice/story-Y2O7MNh7tbzudspuFFzzoI.html\",\"https://www.hindustantimes.com/india-news/govt-revises-bidding-parameters-for-air-india-s-divestment-to-ask-for-bids-at-enterprise-value/story-ebbhEHIAq38zcvWrROa6BN.html\",\"https://www.hindustantimes.com/india-news/what-mike-pompeo-s-attack-on-china-tells-us-about-india-s-new-approach/story-oKCqwFrys5sm4ekXIJ3RMK.html\"]\n",
    "Deccan_29_urls = [\"https://www.deccanchronicle.com/entertainment/tollywood/291020/kajal-weds-gautham-in-mumbai-reception-likely-for-tollywood-celebs-in.html\",\"https://www.deccanchronicle.com/nation/in-other-news/291020/six-teenagers-drown-trying-to-save-one-another-in-west-godavari.html\",\"https://www.deccanchronicle.com/nation/in-other-news/291020/complaints-galore-on-mismanagement-of-hyderabad-flood-relief.html\",\"https://www.deccanchronicle.com/world/america/291020/trump-admin-proposes-to-scrap-computerised-lottery-system-to-select-h.html\",\"https://www.deccanchronicle.com/nation/politics/291020/andhra-pradesh-cites-covid-opposes-elections-to-local-bodies.html\",\"https://www.deccanchronicle.com/nation/in-other-news/291020/indian-parliamentary-panel-slams-twitter-in-china-map-dispute.html\",\"https://www.deccanchronicle.com/nation/politics/291020/pm-modi-tears-into-rjds-tejashwi-says-hes-yuvraj-of-jungle-raj.html\",\"https://www.deccanchronicle.com/nation/current-affairs/291020/nia-conducts-raids-at-multiple-locations-including-offices-of-greate.html\",\"https://www.deccanchronicle.com/nation/current-affairs/291020/jaish-militants-killed-in-srinagar-firefight.html\",\"https://www.deccanchronicle.com/nation/politics/291020/mass-movement-against-new-farming-laws-in-telangana-soon-harish-rao.html\"]\n",
    "TOI_29_urls = [\"https://timesofindia.indiatimes.com/india/nia-conducts-searches-at-7-locations-in-jk-delhi-in-terror-funding-case/articleshow/78935265.cms\",\"https://timesofindia.indiatimes.com/india/coronavirus-india-live-updates-lockdown-extended-in-containment-zones-till-november-30/liveblog/78902091.cms\",\"https://timesofindia.indiatimes.com/world/europe/france-knife-attack-church-sexton-had-throat-slit-while-preparing-for-mass/articleshow/78935099.cms\",\"https://timesofindia.indiatimes.com/sports/cricket/ipl/top-stories/csk-vs-kkr-live-score-nitish-rana-solid-as-kolkata-knight-riders-eye-big-finish/articleshow/78932887.cms\",\"https://timesofindia.indiatimes.com/india/other-states-uts-have-laws-to-protect-their-land-why-not-jk-omar/articleshow/78935629.cms\",\"https://timesofindia.indiatimes.com/india/nia-conducts-searches-at-7-locations-in-jk-delhi-in-terror-funding-case/articleshow/78935265.cms\",\"https://timesofindia.indiatimes.com/india/pm-modi-condemns-knife-attack-in-france-says-india-stands-with-france/articleshow/78935126.cms\",\"https://timesofindia.indiatimes.com/india/strengthen-testing-tracking-treatment-strategy-during-festivals-centre-to-delhi-kerala-bengal/articleshow/78933409.cms\",\"https://timesofindia.indiatimes.com/india/country-that-gives-shelter-to-un-proscribed-terrorists-should-not-play-victim-india-to-pakistan/articleshow/78934516.cms\",\"https://timesofindia.indiatimes.com/india/nia-conducts-searches-at-4-locations-in-assam-and-maharashtra-in-delhi-gold-smuggling-case/articleshow/78934411.cms\"]\n",
    "\n",
    "# Lists for Storing the Data after Web Scrapping \n",
    "\n",
    "Deccan_29_data =[]\n",
    "Hindustan_29_data =[]\n",
    "TOI_29_data = []"
   ]
  },
  {
   "cell_type": "code",
   "execution_count": 20,
   "metadata": {},
   "outputs": [],
   "source": [
    "\"\"\"\n",
    "Defining a function that does the Web Scrapping by taking the List of URL's and populates the list with the data after\n",
    "scrapping the data from respective URL's\n",
    "\"\"\"\n",
    "\n",
    "def News_Summary(News_Channel_urls,News_Channel_Data):\n",
    "    \n",
    "    for url in News_Channel_urls:\n",
    "        \n",
    "        #Instantating article with ENGLISH (en for English)\n",
    "        article = Article(url, language=\"en\") \n",
    "\n",
    "        # Download the article \n",
    "        article.download() \n",
    "\n",
    "        # Parse the article \n",
    "        article.parse() \n",
    "\n",
    "        # Perform natural language processing ie..nlp \n",
    "        article.nlp() \n",
    "\n",
    "        # To extract Title from the article\n",
    "        Title = article.title\n",
    "        \n",
    "        # To extract Text from the article\n",
    "        Text = article.text\n",
    "        \n",
    "        # To extract Summary from the article\n",
    "        Summary = article.summary\n",
    "        \n",
    "        # To extract Keywords from the article\n",
    "        Keywords =  article.keywords\n",
    "        \n",
    "        # Definign our own data using above info for Training\n",
    "        data = Title\n",
    "        \n",
    "        News_Channel_Data.append(data)\n",
    "        "
   ]
  },
  {
   "cell_type": "code",
   "execution_count": 21,
   "metadata": {},
   "outputs": [
    {
     "name": "stderr",
     "output_type": "stream",
     "text": [
      "C:\\Users\\RITCDEV01\\anaconda3\\lib\\site-packages\\dateutil\\parser\\_parser.py:1213: UnknownTimezoneWarning: tzname IST identified but not understood.  Pass `tzinfos` argument in order to correctly return a timezone-aware datetime.  In a future version, this will raise an exception.\n",
      "  warnings.warn(\"tzname {tzname} identified but not understood.  \"\n"
     ]
    }
   ],
   "source": [
    "# Calling the Above Function\n",
    "\n",
    "News_Summary(Hindustan_29_urls,Hindustan_29_data)\n",
    "News_Summary(Deccan_29_urls,Deccan_29_data)\n",
    "News_Summary(TOI_29_urls,TOI_29_data)"
   ]
  },
  {
   "cell_type": "code",
   "execution_count": 22,
   "metadata": {},
   "outputs": [
    {
     "data": {
      "text/html": [
       "<div>\n",
       "<style scoped>\n",
       "    .dataframe tbody tr th:only-of-type {\n",
       "        vertical-align: middle;\n",
       "    }\n",
       "\n",
       "    .dataframe tbody tr th {\n",
       "        vertical-align: top;\n",
       "    }\n",
       "\n",
       "    .dataframe thead th {\n",
       "        text-align: right;\n",
       "    }\n",
       "</style>\n",
       "<table border=\"1\" class=\"dataframe\">\n",
       "  <thead>\n",
       "    <tr style=\"text-align: right;\">\n",
       "      <th></th>\n",
       "      <th>Hindustan_Times</th>\n",
       "      <th>Deccan_Chronicle</th>\n",
       "      <th>Times_of_India</th>\n",
       "    </tr>\n",
       "  </thead>\n",
       "  <tbody>\n",
       "    <tr>\n",
       "      <th>0</th>\n",
       "      <td>IPL 2020: KL Rahul reacts to being named India...</td>\n",
       "      <td>Kajal weds Gautham in Mumbai: Reception likely...</td>\n",
       "      <td>NIA conducts searches at 7 locations in J&amp;amp;...</td>\n",
       "    </tr>\n",
       "    <tr>\n",
       "      <th>1</th>\n",
       "      <td>The Taste with Vir: It’s stupid to say the ter...</td>\n",
       "      <td>Six teenagers drown trying to save one another...</td>\n",
       "      <td>Coronavirus: Russia's vaccine trial paused as ...</td>\n",
       "    </tr>\n",
       "    <tr>\n",
       "      <th>2</th>\n",
       "      <td>‘Nalayak’: Gadkari diagnosed bureaucratic mala...</td>\n",
       "      <td>Complaints galore on mismanagement of Hyderaba...</td>\n",
       "      <td>France knife attack: Church sexton had throat ...</td>\n",
       "    </tr>\n",
       "    <tr>\n",
       "      <th>3</th>\n",
       "      <td>If Joe Biden wins presidential election, what ...</td>\n",
       "      <td>Trump admin proposes to scrap computerised lot...</td>\n",
       "      <td>CSK vs KKR Highlights: Chennai Super Kings bea...</td>\n",
       "    </tr>\n",
       "    <tr>\n",
       "      <th>4</th>\n",
       "      <td>‘Shouldn’t try to play victim’: India roasts P...</td>\n",
       "      <td>Andhra Pradesh cites COVID, opposes elections ...</td>\n",
       "      <td>Other states, UTs have laws to protect their l...</td>\n",
       "    </tr>\n",
       "  </tbody>\n",
       "</table>\n",
       "</div>"
      ],
      "text/plain": [
       "                                     Hindustan_Times  \\\n",
       "0  IPL 2020: KL Rahul reacts to being named India...   \n",
       "1  The Taste with Vir: It’s stupid to say the ter...   \n",
       "2  ‘Nalayak’: Gadkari diagnosed bureaucratic mala...   \n",
       "3  If Joe Biden wins presidential election, what ...   \n",
       "4  ‘Shouldn’t try to play victim’: India roasts P...   \n",
       "\n",
       "                                    Deccan_Chronicle  \\\n",
       "0  Kajal weds Gautham in Mumbai: Reception likely...   \n",
       "1  Six teenagers drown trying to save one another...   \n",
       "2  Complaints galore on mismanagement of Hyderaba...   \n",
       "3  Trump admin proposes to scrap computerised lot...   \n",
       "4  Andhra Pradesh cites COVID, opposes elections ...   \n",
       "\n",
       "                                      Times_of_India  \n",
       "0  NIA conducts searches at 7 locations in J&amp;...  \n",
       "1  Coronavirus: Russia's vaccine trial paused as ...  \n",
       "2  France knife attack: Church sexton had throat ...  \n",
       "3  CSK vs KKR Highlights: Chennai Super Kings bea...  \n",
       "4  Other states, UTs have laws to protect their l...  "
      ]
     },
     "execution_count": 22,
     "metadata": {},
     "output_type": "execute_result"
    }
   ],
   "source": [
    "# Creating a Dataframe from the Data Scrapped\n",
    "\n",
    "news_dict = { 'Hindustan_Times':Hindustan_29_data, 'Deccan_Chronicle': Deccan_29_data, 'Times_of_India': TOI_29_data}  \n",
    "\n",
    "latest_news = pd.DataFrame(news_dict) \n",
    "\n",
    "latest_news.head() "
   ]
  },
  {
   "cell_type": "markdown",
   "metadata": {},
   "source": [
    "\n",
    "#### Data Cleaning of \"Hindustan Times\" column"
   ]
  },
  {
   "cell_type": "code",
   "execution_count": 23,
   "metadata": {},
   "outputs": [],
   "source": [
    "# The Process is similar to that of Data Cleaning done for \"Text\" column of news_data \n",
    "\n",
    "# Taking only those rows which has type of description str. \n",
    "temp=[]\n",
    "for i in range(latest_news.shape[0]):\n",
    "    temp.append(type(latest_news['Hindustan_Times'].values[i]) == str)\n",
    "    \n",
    "latest_news = latest_news.loc[temp,:]\n",
    "\n",
    "stemmer = PorterStemmer()\n",
    "words = stopwords.words(\"english\")\n",
    "\n",
    "# Data Cleaning using regex.\n",
    "latest_news['cleaned_Hindustan_Times'] = latest_news['Hindustan_Times'].apply(lambda x: \" \".join([stemmer.stem(i) for i in re.sub(\"[^a-zA-Z]\", \" \", x).split() if i not in words]).lower())"
   ]
  },
  {
   "cell_type": "code",
   "execution_count": 24,
   "metadata": {},
   "outputs": [
    {
     "data": {
      "text/html": [
       "<div>\n",
       "<style scoped>\n",
       "    .dataframe tbody tr th:only-of-type {\n",
       "        vertical-align: middle;\n",
       "    }\n",
       "\n",
       "    .dataframe tbody tr th {\n",
       "        vertical-align: top;\n",
       "    }\n",
       "\n",
       "    .dataframe thead th {\n",
       "        text-align: right;\n",
       "    }\n",
       "</style>\n",
       "<table border=\"1\" class=\"dataframe\">\n",
       "  <thead>\n",
       "    <tr style=\"text-align: right;\">\n",
       "      <th></th>\n",
       "      <th>Hindustan_Times</th>\n",
       "      <th>Deccan_Chronicle</th>\n",
       "      <th>Times_of_India</th>\n",
       "      <th>cleaned_Hindustan_Times</th>\n",
       "    </tr>\n",
       "  </thead>\n",
       "  <tbody>\n",
       "    <tr>\n",
       "      <th>0</th>\n",
       "      <td>IPL 2020: KL Rahul reacts to being named India...</td>\n",
       "      <td>Kajal weds Gautham in Mumbai: Reception likely...</td>\n",
       "      <td>NIA conducts searches at 7 locations in J&amp;amp;...</td>\n",
       "      <td>ipl kl rahul react name india limit over vice ...</td>\n",
       "    </tr>\n",
       "    <tr>\n",
       "      <th>1</th>\n",
       "      <td>The Taste with Vir: It’s stupid to say the ter...</td>\n",
       "      <td>Six teenagers drown trying to save one another...</td>\n",
       "      <td>Coronavirus: Russia's vaccine trial paused as ...</td>\n",
       "      <td>the tast vir it stupid say terror attack franc...</td>\n",
       "    </tr>\n",
       "    <tr>\n",
       "      <th>2</th>\n",
       "      <td>‘Nalayak’: Gadkari diagnosed bureaucratic mala...</td>\n",
       "      <td>Complaints galore on mismanagement of Hyderaba...</td>\n",
       "      <td>France knife attack: Church sexton had throat ...</td>\n",
       "      <td>nalayak gadkari diagnos bureaucrat malais modi...</td>\n",
       "    </tr>\n",
       "    <tr>\n",
       "      <th>3</th>\n",
       "      <td>If Joe Biden wins presidential election, what ...</td>\n",
       "      <td>Trump admin proposes to scrap computerised lot...</td>\n",
       "      <td>CSK vs KKR Highlights: Chennai Super Kings bea...</td>\n",
       "      <td>if joe biden win presidenti elect would us cli...</td>\n",
       "    </tr>\n",
       "    <tr>\n",
       "      <th>4</th>\n",
       "      <td>‘Shouldn’t try to play victim’: India roasts P...</td>\n",
       "      <td>Andhra Pradesh cites COVID, opposes elections ...</td>\n",
       "      <td>Other states, UTs have laws to protect their l...</td>\n",
       "      <td>shouldn tri play victim india roast pakistan o...</td>\n",
       "    </tr>\n",
       "  </tbody>\n",
       "</table>\n",
       "</div>"
      ],
      "text/plain": [
       "                                     Hindustan_Times  \\\n",
       "0  IPL 2020: KL Rahul reacts to being named India...   \n",
       "1  The Taste with Vir: It’s stupid to say the ter...   \n",
       "2  ‘Nalayak’: Gadkari diagnosed bureaucratic mala...   \n",
       "3  If Joe Biden wins presidential election, what ...   \n",
       "4  ‘Shouldn’t try to play victim’: India roasts P...   \n",
       "\n",
       "                                    Deccan_Chronicle  \\\n",
       "0  Kajal weds Gautham in Mumbai: Reception likely...   \n",
       "1  Six teenagers drown trying to save one another...   \n",
       "2  Complaints galore on mismanagement of Hyderaba...   \n",
       "3  Trump admin proposes to scrap computerised lot...   \n",
       "4  Andhra Pradesh cites COVID, opposes elections ...   \n",
       "\n",
       "                                      Times_of_India  \\\n",
       "0  NIA conducts searches at 7 locations in J&amp;...   \n",
       "1  Coronavirus: Russia's vaccine trial paused as ...   \n",
       "2  France knife attack: Church sexton had throat ...   \n",
       "3  CSK vs KKR Highlights: Chennai Super Kings bea...   \n",
       "4  Other states, UTs have laws to protect their l...   \n",
       "\n",
       "                             cleaned_Hindustan_Times  \n",
       "0  ipl kl rahul react name india limit over vice ...  \n",
       "1  the tast vir it stupid say terror attack franc...  \n",
       "2  nalayak gadkari diagnos bureaucrat malais modi...  \n",
       "3  if joe biden win presidenti elect would us cli...  \n",
       "4  shouldn tri play victim india roast pakistan o...  "
      ]
     },
     "execution_count": 24,
     "metadata": {},
     "output_type": "execute_result"
    }
   ],
   "source": [
    "latest_news.head()"
   ]
  },
  {
   "cell_type": "markdown",
   "metadata": {},
   "source": [
    "#### Data Cleaning of \"Deccan Chronicle\t\" column"
   ]
  },
  {
   "cell_type": "code",
   "execution_count": 25,
   "metadata": {},
   "outputs": [],
   "source": [
    "# The Process is similar to that of Data Cleaning done for \"Text\" column of news_data \n",
    "\n",
    "# Taking only those rows which has type of description str. \n",
    "temp=[]\n",
    "for i in range(latest_news.shape[0]):\n",
    "    temp.append(type(latest_news['Deccan_Chronicle'].values[i]) == str)\n",
    "        \n",
    "latest_news = latest_news.loc[temp,:]\n",
    "\n",
    "stemmer = PorterStemmer()\n",
    "words = stopwords.words(\"english\")\n",
    "\n",
    "# Data Cleaning using regex.\n",
    "latest_news['cleaned_Deccan_Chronicle'] = latest_news['Deccan_Chronicle'].apply(lambda x: \" \".join([stemmer.stem(i) for i in re.sub(\"[^a-zA-Z]\", \" \", x).split() if i not in words]).lower())"
   ]
  },
  {
   "cell_type": "code",
   "execution_count": 26,
   "metadata": {},
   "outputs": [
    {
     "data": {
      "text/html": [
       "<div>\n",
       "<style scoped>\n",
       "    .dataframe tbody tr th:only-of-type {\n",
       "        vertical-align: middle;\n",
       "    }\n",
       "\n",
       "    .dataframe tbody tr th {\n",
       "        vertical-align: top;\n",
       "    }\n",
       "\n",
       "    .dataframe thead th {\n",
       "        text-align: right;\n",
       "    }\n",
       "</style>\n",
       "<table border=\"1\" class=\"dataframe\">\n",
       "  <thead>\n",
       "    <tr style=\"text-align: right;\">\n",
       "      <th></th>\n",
       "      <th>Hindustan_Times</th>\n",
       "      <th>Deccan_Chronicle</th>\n",
       "      <th>Times_of_India</th>\n",
       "      <th>cleaned_Hindustan_Times</th>\n",
       "      <th>cleaned_Deccan_Chronicle</th>\n",
       "    </tr>\n",
       "  </thead>\n",
       "  <tbody>\n",
       "    <tr>\n",
       "      <th>0</th>\n",
       "      <td>IPL 2020: KL Rahul reacts to being named India...</td>\n",
       "      <td>Kajal weds Gautham in Mumbai: Reception likely...</td>\n",
       "      <td>NIA conducts searches at 7 locations in J&amp;amp;...</td>\n",
       "      <td>ipl kl rahul react name india limit over vice ...</td>\n",
       "      <td>kajal wed gautham mumbai recept like tollywood...</td>\n",
       "    </tr>\n",
       "    <tr>\n",
       "      <th>1</th>\n",
       "      <td>The Taste with Vir: It’s stupid to say the ter...</td>\n",
       "      <td>Six teenagers drown trying to save one another...</td>\n",
       "      <td>Coronavirus: Russia's vaccine trial paused as ...</td>\n",
       "      <td>the tast vir it stupid say terror attack franc...</td>\n",
       "      <td>six teenag drown tri save one anoth west godavari</td>\n",
       "    </tr>\n",
       "    <tr>\n",
       "      <th>2</th>\n",
       "      <td>‘Nalayak’: Gadkari diagnosed bureaucratic mala...</td>\n",
       "      <td>Complaints galore on mismanagement of Hyderaba...</td>\n",
       "      <td>France knife attack: Church sexton had throat ...</td>\n",
       "      <td>nalayak gadkari diagnos bureaucrat malais modi...</td>\n",
       "      <td>complaint galor mismanag hyderabad flood relief</td>\n",
       "    </tr>\n",
       "    <tr>\n",
       "      <th>3</th>\n",
       "      <td>If Joe Biden wins presidential election, what ...</td>\n",
       "      <td>Trump admin proposes to scrap computerised lot...</td>\n",
       "      <td>CSK vs KKR Highlights: Chennai Super Kings bea...</td>\n",
       "      <td>if joe biden win presidenti elect would us cli...</td>\n",
       "      <td>trump admin propos scrap computeris lotteri sy...</td>\n",
       "    </tr>\n",
       "    <tr>\n",
       "      <th>4</th>\n",
       "      <td>‘Shouldn’t try to play victim’: India roasts P...</td>\n",
       "      <td>Andhra Pradesh cites COVID, opposes elections ...</td>\n",
       "      <td>Other states, UTs have laws to protect their l...</td>\n",
       "      <td>shouldn tri play victim india roast pakistan o...</td>\n",
       "      <td>andhra pradesh cite covid oppos elect local bodi</td>\n",
       "    </tr>\n",
       "  </tbody>\n",
       "</table>\n",
       "</div>"
      ],
      "text/plain": [
       "                                     Hindustan_Times  \\\n",
       "0  IPL 2020: KL Rahul reacts to being named India...   \n",
       "1  The Taste with Vir: It’s stupid to say the ter...   \n",
       "2  ‘Nalayak’: Gadkari diagnosed bureaucratic mala...   \n",
       "3  If Joe Biden wins presidential election, what ...   \n",
       "4  ‘Shouldn’t try to play victim’: India roasts P...   \n",
       "\n",
       "                                    Deccan_Chronicle  \\\n",
       "0  Kajal weds Gautham in Mumbai: Reception likely...   \n",
       "1  Six teenagers drown trying to save one another...   \n",
       "2  Complaints galore on mismanagement of Hyderaba...   \n",
       "3  Trump admin proposes to scrap computerised lot...   \n",
       "4  Andhra Pradesh cites COVID, opposes elections ...   \n",
       "\n",
       "                                      Times_of_India  \\\n",
       "0  NIA conducts searches at 7 locations in J&amp;...   \n",
       "1  Coronavirus: Russia's vaccine trial paused as ...   \n",
       "2  France knife attack: Church sexton had throat ...   \n",
       "3  CSK vs KKR Highlights: Chennai Super Kings bea...   \n",
       "4  Other states, UTs have laws to protect their l...   \n",
       "\n",
       "                             cleaned_Hindustan_Times  \\\n",
       "0  ipl kl rahul react name india limit over vice ...   \n",
       "1  the tast vir it stupid say terror attack franc...   \n",
       "2  nalayak gadkari diagnos bureaucrat malais modi...   \n",
       "3  if joe biden win presidenti elect would us cli...   \n",
       "4  shouldn tri play victim india roast pakistan o...   \n",
       "\n",
       "                            cleaned_Deccan_Chronicle  \n",
       "0  kajal wed gautham mumbai recept like tollywood...  \n",
       "1  six teenag drown tri save one anoth west godavari  \n",
       "2    complaint galor mismanag hyderabad flood relief  \n",
       "3  trump admin propos scrap computeris lotteri sy...  \n",
       "4   andhra pradesh cite covid oppos elect local bodi  "
      ]
     },
     "execution_count": 26,
     "metadata": {},
     "output_type": "execute_result"
    }
   ],
   "source": [
    "latest_news.head()"
   ]
  },
  {
   "cell_type": "markdown",
   "metadata": {},
   "source": [
    "#### Data Cleaning of \"Hindustan Times\" column"
   ]
  },
  {
   "cell_type": "code",
   "execution_count": 27,
   "metadata": {},
   "outputs": [],
   "source": [
    "# The Process is similar to that of Data Cleaning done for \"Text\" column of news_data \n",
    "\n",
    "# Taking only those rows which has type of description str. \n",
    "temp=[]\n",
    "for i in range(latest_news.shape[0]):\n",
    "    temp.append(type(latest_news['Times_of_India'].values[i]) == str)\n",
    "        \n",
    "latest_news = latest_news.loc[temp,:]\n",
    "\n",
    "stemmer = PorterStemmer()\n",
    "words = stopwords.words(\"english\")\n",
    "\n",
    "# Data Cleaning using regex.\n",
    "latest_news['cleaned_Times_of_India'] = latest_news['Times_of_India'].apply(lambda x: \" \".join([stemmer.stem(i) for i in re.sub(\"[^a-zA-Z]\", \" \", x).split() if i not in words]).lower())"
   ]
  },
  {
   "cell_type": "code",
   "execution_count": 28,
   "metadata": {},
   "outputs": [
    {
     "data": {
      "text/html": [
       "<div>\n",
       "<style scoped>\n",
       "    .dataframe tbody tr th:only-of-type {\n",
       "        vertical-align: middle;\n",
       "    }\n",
       "\n",
       "    .dataframe tbody tr th {\n",
       "        vertical-align: top;\n",
       "    }\n",
       "\n",
       "    .dataframe thead th {\n",
       "        text-align: right;\n",
       "    }\n",
       "</style>\n",
       "<table border=\"1\" class=\"dataframe\">\n",
       "  <thead>\n",
       "    <tr style=\"text-align: right;\">\n",
       "      <th></th>\n",
       "      <th>Hindustan_Times</th>\n",
       "      <th>Deccan_Chronicle</th>\n",
       "      <th>Times_of_India</th>\n",
       "      <th>cleaned_Hindustan_Times</th>\n",
       "      <th>cleaned_Deccan_Chronicle</th>\n",
       "      <th>cleaned_Times_of_India</th>\n",
       "    </tr>\n",
       "  </thead>\n",
       "  <tbody>\n",
       "    <tr>\n",
       "      <th>0</th>\n",
       "      <td>IPL 2020: KL Rahul reacts to being named India...</td>\n",
       "      <td>Kajal weds Gautham in Mumbai: Reception likely...</td>\n",
       "      <td>NIA conducts searches at 7 locations in J&amp;amp;...</td>\n",
       "      <td>ipl kl rahul react name india limit over vice ...</td>\n",
       "      <td>kajal wed gautham mumbai recept like tollywood...</td>\n",
       "      <td>nia conduct search locat j amp k delhi terror ...</td>\n",
       "    </tr>\n",
       "    <tr>\n",
       "      <th>1</th>\n",
       "      <td>The Taste with Vir: It’s stupid to say the ter...</td>\n",
       "      <td>Six teenagers drown trying to save one another...</td>\n",
       "      <td>Coronavirus: Russia's vaccine trial paused as ...</td>\n",
       "      <td>the tast vir it stupid say terror attack franc...</td>\n",
       "      <td>six teenag drown tri save one anoth west godavari</td>\n",
       "      <td>coronaviru russia vaccin trial paus clinic run...</td>\n",
       "    </tr>\n",
       "    <tr>\n",
       "      <th>2</th>\n",
       "      <td>‘Nalayak’: Gadkari diagnosed bureaucratic mala...</td>\n",
       "      <td>Complaints galore on mismanagement of Hyderaba...</td>\n",
       "      <td>France knife attack: Church sexton had throat ...</td>\n",
       "      <td>nalayak gadkari diagnos bureaucrat malais modi...</td>\n",
       "      <td>complaint galor mismanag hyderabad flood relief</td>\n",
       "      <td>franc knife attack church sexton throat slit p...</td>\n",
       "    </tr>\n",
       "    <tr>\n",
       "      <th>3</th>\n",
       "      <td>If Joe Biden wins presidential election, what ...</td>\n",
       "      <td>Trump admin proposes to scrap computerised lot...</td>\n",
       "      <td>CSK vs KKR Highlights: Chennai Super Kings bea...</td>\n",
       "      <td>if joe biden win presidenti elect would us cli...</td>\n",
       "      <td>trump admin propos scrap computeris lotteri sy...</td>\n",
       "      <td>csk vs kkr highlight chennai super king beat k...</td>\n",
       "    </tr>\n",
       "    <tr>\n",
       "      <th>4</th>\n",
       "      <td>‘Shouldn’t try to play victim’: India roasts P...</td>\n",
       "      <td>Andhra Pradesh cites COVID, opposes elections ...</td>\n",
       "      <td>Other states, UTs have laws to protect their l...</td>\n",
       "      <td>shouldn tri play victim india roast pakistan o...</td>\n",
       "      <td>andhra pradesh cite covid oppos elect local bodi</td>\n",
       "      <td>other state ut law protect land j amp k omar a...</td>\n",
       "    </tr>\n",
       "  </tbody>\n",
       "</table>\n",
       "</div>"
      ],
      "text/plain": [
       "                                     Hindustan_Times  \\\n",
       "0  IPL 2020: KL Rahul reacts to being named India...   \n",
       "1  The Taste with Vir: It’s stupid to say the ter...   \n",
       "2  ‘Nalayak’: Gadkari diagnosed bureaucratic mala...   \n",
       "3  If Joe Biden wins presidential election, what ...   \n",
       "4  ‘Shouldn’t try to play victim’: India roasts P...   \n",
       "\n",
       "                                    Deccan_Chronicle  \\\n",
       "0  Kajal weds Gautham in Mumbai: Reception likely...   \n",
       "1  Six teenagers drown trying to save one another...   \n",
       "2  Complaints galore on mismanagement of Hyderaba...   \n",
       "3  Trump admin proposes to scrap computerised lot...   \n",
       "4  Andhra Pradesh cites COVID, opposes elections ...   \n",
       "\n",
       "                                      Times_of_India  \\\n",
       "0  NIA conducts searches at 7 locations in J&amp;...   \n",
       "1  Coronavirus: Russia's vaccine trial paused as ...   \n",
       "2  France knife attack: Church sexton had throat ...   \n",
       "3  CSK vs KKR Highlights: Chennai Super Kings bea...   \n",
       "4  Other states, UTs have laws to protect their l...   \n",
       "\n",
       "                             cleaned_Hindustan_Times  \\\n",
       "0  ipl kl rahul react name india limit over vice ...   \n",
       "1  the tast vir it stupid say terror attack franc...   \n",
       "2  nalayak gadkari diagnos bureaucrat malais modi...   \n",
       "3  if joe biden win presidenti elect would us cli...   \n",
       "4  shouldn tri play victim india roast pakistan o...   \n",
       "\n",
       "                            cleaned_Deccan_Chronicle  \\\n",
       "0  kajal wed gautham mumbai recept like tollywood...   \n",
       "1  six teenag drown tri save one anoth west godavari   \n",
       "2    complaint galor mismanag hyderabad flood relief   \n",
       "3  trump admin propos scrap computeris lotteri sy...   \n",
       "4   andhra pradesh cite covid oppos elect local bodi   \n",
       "\n",
       "                              cleaned_Times_of_India  \n",
       "0  nia conduct search locat j amp k delhi terror ...  \n",
       "1  coronaviru russia vaccin trial paus clinic run...  \n",
       "2  franc knife attack church sexton throat slit p...  \n",
       "3  csk vs kkr highlight chennai super king beat k...  \n",
       "4  other state ut law protect land j amp k omar a...  "
      ]
     },
     "execution_count": 28,
     "metadata": {},
     "output_type": "execute_result"
    }
   ],
   "source": [
    "latest_news.head()"
   ]
  },
  {
   "cell_type": "markdown",
   "metadata": {},
   "source": [
    "\n",
    "# Sentiment Analysis\n",
    "\n",
    "We can choose any algorithm from below : \n",
    "- Naive Bayes Algorithm \n",
    "- Support Vector Machine Algorithm \n",
    "- Logistic Regression Algorithm \n",
    "\n",
    "#### But Taking into Consideration the Results of ENSEMBLE MACHINE LEARNING MODELLING done as a part of MAJOR PROJECT,\n",
    "\n",
    "#### I am using `Naive Bayes Algorithm` now !"
   ]
  },
  {
   "cell_type": "code",
   "execution_count": 29,
   "metadata": {},
   "outputs": [
    {
     "name": "stdout",
     "output_type": "stream",
     "text": [
      "(4845, 1)\n"
     ]
    },
    {
     "name": "stderr",
     "output_type": "stream",
     "text": [
      "<ipython-input-29-39320b8ee855>:4: SettingWithCopyWarning: \n",
      "A value is trying to be set on a copy of a slice from a DataFrame.\n",
      "Try using .loc[row_indexer,col_indexer] = value instead\n",
      "\n",
      "See the caveats in the documentation: https://pandas.pydata.org/pandas-docs/stable/user_guide/indexing.html#returning-a-view-versus-a-copy\n",
      "  X_news_data['Channel_Name'] = \"Economic Times\"\n"
     ]
    },
    {
     "data": {
      "text/html": [
       "<div>\n",
       "<style scoped>\n",
       "    .dataframe tbody tr th:only-of-type {\n",
       "        vertical-align: middle;\n",
       "    }\n",
       "\n",
       "    .dataframe tbody tr th {\n",
       "        vertical-align: top;\n",
       "    }\n",
       "\n",
       "    .dataframe thead th {\n",
       "        text-align: right;\n",
       "    }\n",
       "</style>\n",
       "<table border=\"1\" class=\"dataframe\">\n",
       "  <thead>\n",
       "    <tr style=\"text-align: right;\">\n",
       "      <th></th>\n",
       "      <th>cleaned_text</th>\n",
       "      <th>Channel_Name</th>\n",
       "    </tr>\n",
       "  </thead>\n",
       "  <tbody>\n",
       "    <tr>\n",
       "      <th>0</th>\n",
       "      <td>technopoli plan develop stage area less squar ...</td>\n",
       "      <td>Economic Times</td>\n",
       "    </tr>\n",
       "    <tr>\n",
       "      <th>1</th>\n",
       "      <td>the intern electron industri compani elcoteq l...</td>\n",
       "      <td>Economic Times</td>\n",
       "    </tr>\n",
       "    <tr>\n",
       "      <th>2</th>\n",
       "      <td>with new product plant compani would increas c...</td>\n",
       "      <td>Economic Times</td>\n",
       "    </tr>\n",
       "    <tr>\n",
       "      <th>3</th>\n",
       "      <td>accord compani updat strategi year baswar targ...</td>\n",
       "      <td>Economic Times</td>\n",
       "    </tr>\n",
       "    <tr>\n",
       "      <th>4</th>\n",
       "      <td>financ of aspocomp s growth aspocomp aggress p...</td>\n",
       "      <td>Economic Times</td>\n",
       "    </tr>\n",
       "  </tbody>\n",
       "</table>\n",
       "</div>"
      ],
      "text/plain": [
       "                                        cleaned_text    Channel_Name\n",
       "0  technopoli plan develop stage area less squar ...  Economic Times\n",
       "1  the intern electron industri compani elcoteq l...  Economic Times\n",
       "2  with new product plant compani would increas c...  Economic Times\n",
       "3  accord compani updat strategi year baswar targ...  Economic Times\n",
       "4  financ of aspocomp s growth aspocomp aggress p...  Economic Times"
      ]
     },
     "execution_count": 29,
     "metadata": {},
     "output_type": "execute_result"
    }
   ],
   "source": [
    "print (X_news_data.shape)\n",
    "\n",
    "# Adding a Column to indicate the Channel Name\n",
    "X_news_data['Channel_Name'] = \"Economic Times\"\n",
    "X_news_data.head()"
   ]
  },
  {
   "cell_type": "code",
   "execution_count": 30,
   "metadata": {},
   "outputs": [
    {
     "name": "stdout",
     "output_type": "stream",
     "text": [
      "(4845, 1)\n"
     ]
    },
    {
     "data": {
      "text/html": [
       "<div>\n",
       "<style scoped>\n",
       "    .dataframe tbody tr th:only-of-type {\n",
       "        vertical-align: middle;\n",
       "    }\n",
       "\n",
       "    .dataframe tbody tr th {\n",
       "        vertical-align: top;\n",
       "    }\n",
       "\n",
       "    .dataframe thead th {\n",
       "        text-align: right;\n",
       "    }\n",
       "</style>\n",
       "<table border=\"1\" class=\"dataframe\">\n",
       "  <thead>\n",
       "    <tr style=\"text-align: right;\">\n",
       "      <th></th>\n",
       "      <th>Sentiment</th>\n",
       "    </tr>\n",
       "  </thead>\n",
       "  <tbody>\n",
       "    <tr>\n",
       "      <th>0</th>\n",
       "      <td>1</td>\n",
       "    </tr>\n",
       "    <tr>\n",
       "      <th>1</th>\n",
       "      <td>0</td>\n",
       "    </tr>\n",
       "    <tr>\n",
       "      <th>2</th>\n",
       "      <td>2</td>\n",
       "    </tr>\n",
       "    <tr>\n",
       "      <th>3</th>\n",
       "      <td>2</td>\n",
       "    </tr>\n",
       "    <tr>\n",
       "      <th>4</th>\n",
       "      <td>2</td>\n",
       "    </tr>\n",
       "  </tbody>\n",
       "</table>\n",
       "</div>"
      ],
      "text/plain": [
       "   Sentiment\n",
       "0          1\n",
       "1          0\n",
       "2          2\n",
       "3          2\n",
       "4          2"
      ]
     },
     "execution_count": 30,
     "metadata": {},
     "output_type": "execute_result"
    }
   ],
   "source": [
    "print(y_news_data.shape)\n",
    "y_news_data.head()"
   ]
  },
  {
   "cell_type": "code",
   "execution_count": 31,
   "metadata": {},
   "outputs": [
    {
     "name": "stdout",
     "output_type": "stream",
     "text": [
      "(10, 6)\n"
     ]
    },
    {
     "data": {
      "text/html": [
       "<div>\n",
       "<style scoped>\n",
       "    .dataframe tbody tr th:only-of-type {\n",
       "        vertical-align: middle;\n",
       "    }\n",
       "\n",
       "    .dataframe tbody tr th {\n",
       "        vertical-align: top;\n",
       "    }\n",
       "\n",
       "    .dataframe thead th {\n",
       "        text-align: right;\n",
       "    }\n",
       "</style>\n",
       "<table border=\"1\" class=\"dataframe\">\n",
       "  <thead>\n",
       "    <tr style=\"text-align: right;\">\n",
       "      <th></th>\n",
       "      <th>Hindustan_Times</th>\n",
       "      <th>Deccan_Chronicle</th>\n",
       "      <th>Times_of_India</th>\n",
       "      <th>cleaned_Hindustan_Times</th>\n",
       "      <th>cleaned_Deccan_Chronicle</th>\n",
       "      <th>cleaned_Times_of_India</th>\n",
       "    </tr>\n",
       "  </thead>\n",
       "  <tbody>\n",
       "    <tr>\n",
       "      <th>0</th>\n",
       "      <td>IPL 2020: KL Rahul reacts to being named India...</td>\n",
       "      <td>Kajal weds Gautham in Mumbai: Reception likely...</td>\n",
       "      <td>NIA conducts searches at 7 locations in J&amp;amp;...</td>\n",
       "      <td>ipl kl rahul react name india limit over vice ...</td>\n",
       "      <td>kajal wed gautham mumbai recept like tollywood...</td>\n",
       "      <td>nia conduct search locat j amp k delhi terror ...</td>\n",
       "    </tr>\n",
       "    <tr>\n",
       "      <th>1</th>\n",
       "      <td>The Taste with Vir: It’s stupid to say the ter...</td>\n",
       "      <td>Six teenagers drown trying to save one another...</td>\n",
       "      <td>Coronavirus: Russia's vaccine trial paused as ...</td>\n",
       "      <td>the tast vir it stupid say terror attack franc...</td>\n",
       "      <td>six teenag drown tri save one anoth west godavari</td>\n",
       "      <td>coronaviru russia vaccin trial paus clinic run...</td>\n",
       "    </tr>\n",
       "    <tr>\n",
       "      <th>2</th>\n",
       "      <td>‘Nalayak’: Gadkari diagnosed bureaucratic mala...</td>\n",
       "      <td>Complaints galore on mismanagement of Hyderaba...</td>\n",
       "      <td>France knife attack: Church sexton had throat ...</td>\n",
       "      <td>nalayak gadkari diagnos bureaucrat malais modi...</td>\n",
       "      <td>complaint galor mismanag hyderabad flood relief</td>\n",
       "      <td>franc knife attack church sexton throat slit p...</td>\n",
       "    </tr>\n",
       "    <tr>\n",
       "      <th>3</th>\n",
       "      <td>If Joe Biden wins presidential election, what ...</td>\n",
       "      <td>Trump admin proposes to scrap computerised lot...</td>\n",
       "      <td>CSK vs KKR Highlights: Chennai Super Kings bea...</td>\n",
       "      <td>if joe biden win presidenti elect would us cli...</td>\n",
       "      <td>trump admin propos scrap computeris lotteri sy...</td>\n",
       "      <td>csk vs kkr highlight chennai super king beat k...</td>\n",
       "    </tr>\n",
       "    <tr>\n",
       "      <th>4</th>\n",
       "      <td>‘Shouldn’t try to play victim’: India roasts P...</td>\n",
       "      <td>Andhra Pradesh cites COVID, opposes elections ...</td>\n",
       "      <td>Other states, UTs have laws to protect their l...</td>\n",
       "      <td>shouldn tri play victim india roast pakistan o...</td>\n",
       "      <td>andhra pradesh cite covid oppos elect local bodi</td>\n",
       "      <td>other state ut law protect land j amp k omar a...</td>\n",
       "    </tr>\n",
       "  </tbody>\n",
       "</table>\n",
       "</div>"
      ],
      "text/plain": [
       "                                     Hindustan_Times  \\\n",
       "0  IPL 2020: KL Rahul reacts to being named India...   \n",
       "1  The Taste with Vir: It’s stupid to say the ter...   \n",
       "2  ‘Nalayak’: Gadkari diagnosed bureaucratic mala...   \n",
       "3  If Joe Biden wins presidential election, what ...   \n",
       "4  ‘Shouldn’t try to play victim’: India roasts P...   \n",
       "\n",
       "                                    Deccan_Chronicle  \\\n",
       "0  Kajal weds Gautham in Mumbai: Reception likely...   \n",
       "1  Six teenagers drown trying to save one another...   \n",
       "2  Complaints galore on mismanagement of Hyderaba...   \n",
       "3  Trump admin proposes to scrap computerised lot...   \n",
       "4  Andhra Pradesh cites COVID, opposes elections ...   \n",
       "\n",
       "                                      Times_of_India  \\\n",
       "0  NIA conducts searches at 7 locations in J&amp;...   \n",
       "1  Coronavirus: Russia's vaccine trial paused as ...   \n",
       "2  France knife attack: Church sexton had throat ...   \n",
       "3  CSK vs KKR Highlights: Chennai Super Kings bea...   \n",
       "4  Other states, UTs have laws to protect their l...   \n",
       "\n",
       "                             cleaned_Hindustan_Times  \\\n",
       "0  ipl kl rahul react name india limit over vice ...   \n",
       "1  the tast vir it stupid say terror attack franc...   \n",
       "2  nalayak gadkari diagnos bureaucrat malais modi...   \n",
       "3  if joe biden win presidenti elect would us cli...   \n",
       "4  shouldn tri play victim india roast pakistan o...   \n",
       "\n",
       "                            cleaned_Deccan_Chronicle  \\\n",
       "0  kajal wed gautham mumbai recept like tollywood...   \n",
       "1  six teenag drown tri save one anoth west godavari   \n",
       "2    complaint galor mismanag hyderabad flood relief   \n",
       "3  trump admin propos scrap computeris lotteri sy...   \n",
       "4   andhra pradesh cite covid oppos elect local bodi   \n",
       "\n",
       "                              cleaned_Times_of_India  \n",
       "0  nia conduct search locat j amp k delhi terror ...  \n",
       "1  coronaviru russia vaccin trial paus clinic run...  \n",
       "2  franc knife attack church sexton throat slit p...  \n",
       "3  csk vs kkr highlight chennai super king beat k...  \n",
       "4  other state ut law protect land j amp k omar a...  "
      ]
     },
     "execution_count": 31,
     "metadata": {},
     "output_type": "execute_result"
    }
   ],
   "source": [
    "print(latest_news.shape)\n",
    "latest_news.head()"
   ]
  },
  {
   "cell_type": "markdown",
   "metadata": {},
   "source": [
    "### Now let us concatenate the Latest News from other 3 channels to our initial dataframe"
   ]
  },
  {
   "cell_type": "code",
   "execution_count": 32,
   "metadata": {},
   "outputs": [],
   "source": [
    "# Creating a Dataframe of HINDUSTAN TIMES  with similar Dimensions and Column Names to match with our initial Dataframe\n",
    "\n",
    "data_HT = {'cleaned_text':latest_news['cleaned_Hindustan_Times'].tolist() ,\n",
    "        'Channel_Name': 'Hindustan_Times' }\n",
    "\n",
    "df_HT = pd.DataFrame (data_HT, columns = ['cleaned_text','Channel_Name'])\n",
    "\n",
    "# Creating a Dataframe of DECCAN CHRONICLE  with similar Dimensions and Column Names to match with our initial Dataframe\n",
    "\n",
    "data_DC = {'cleaned_text':latest_news['cleaned_Deccan_Chronicle'].tolist() ,\n",
    "        'Channel_Name': 'Deccan_Chronicle' }\n",
    "\n",
    "df_DC = pd.DataFrame (data_DC, columns = ['cleaned_text','Channel_Name'])\n",
    "\n",
    "# Creating a Dataframe of TIMES OF INDIA  with similar Dimensions and Column Names to match with our initial Dataframe\n",
    "\n",
    "data_TOI = {'cleaned_text':latest_news['cleaned_Times_of_India'].tolist() ,\n",
    "        'Channel_Name': 'Times_of_India' }\n",
    "\n",
    "df_TOI = pd.DataFrame (data_TOI, columns = ['cleaned_text','Channel_Name'])"
   ]
  },
  {
   "cell_type": "code",
   "execution_count": 33,
   "metadata": {},
   "outputs": [],
   "source": [
    "# Combining the above Dataframes one at a time with our initial Dataframe\n",
    "\n",
    "X_news_data=pd.concat([X_news_data,df_HT],axis=0)\n",
    "X_news_data=pd.concat([X_news_data,df_DC],axis=0)\n",
    "X_news_data=pd.concat([X_news_data,df_TOI],axis=0)"
   ]
  },
  {
   "cell_type": "code",
   "execution_count": 34,
   "metadata": {},
   "outputs": [
    {
     "data": {
      "text/plain": [
       "array(['Economic Times', 'Hindustan_Times', 'Deccan_Chronicle',\n",
       "       'Times_of_India'], dtype=object)"
      ]
     },
     "execution_count": 34,
     "metadata": {},
     "output_type": "execute_result"
    }
   ],
   "source": [
    "X_news_data['Channel_Name'].unique()"
   ]
  },
  {
   "cell_type": "code",
   "execution_count": 35,
   "metadata": {},
   "outputs": [],
   "source": [
    "# Instantiating the Vectorizer\n",
    "\n",
    "count_vector=CountVectorizer()"
   ]
  },
  {
   "cell_type": "code",
   "execution_count": 36,
   "metadata": {},
   "outputs": [
    {
     "data": {
      "text/plain": [
       "<4875x6839 sparse matrix of type '<class 'numpy.int64'>'\n",
       "\twith 57456 stored elements in Compressed Sparse Row format>"
      ]
     },
     "execution_count": 36,
     "metadata": {},
     "output_type": "execute_result"
    }
   ],
   "source": [
    "# Vectorizing the cleaned_text column\n",
    "\n",
    "X_news_data_vectorized = count_vector.fit_transform(X_news_data[\"cleaned_text\"])\n",
    "\n",
    "X_news_data_vectorized"
   ]
  },
  {
   "cell_type": "code",
   "execution_count": 37,
   "metadata": {},
   "outputs": [],
   "source": [
    "# Splitting the data into Training and Testing Sets\n",
    "\n",
    "# Notice that we are passing data of Independent Variables till `4845` which is the size of the data we had Labels for.\n",
    "# To be precise we are training the Model with the first `4845` rows of dataset which corresponds to `Economic Times` \n",
    "\n",
    "X_train,X_test,Y_train,Y_test=train_test_split(X_news_data_vectorized[:4845],y_news_data[\"Sentiment\"], train_size=0.8)"
   ]
  },
  {
   "cell_type": "code",
   "execution_count": 38,
   "metadata": {},
   "outputs": [
    {
     "data": {
      "text/plain": [
       "MultinomialNB()"
      ]
     },
     "execution_count": 38,
     "metadata": {},
     "output_type": "execute_result"
    }
   ],
   "source": [
    "# Instantiating the Model\n",
    "naive_bayes = MultinomialNB(alpha=1.0, class_prior=None, fit_prior=True)\n",
    "\n",
    "# Fitting the Model and Training it \n",
    "naive_bayes.fit(X_train,Y_train)"
   ]
  },
  {
   "cell_type": "code",
   "execution_count": 39,
   "metadata": {},
   "outputs": [
    {
     "data": {
      "text/plain": [
       "0.6780185758513931"
      ]
     },
     "execution_count": 39,
     "metadata": {},
     "output_type": "execute_result"
    }
   ],
   "source": [
    "# Making Prediction on the Test Data\n",
    "Y_predicted=naive_bayes.predict(X_test)\n",
    "\n",
    "# Evaluating the Accuracy of the Model\n",
    "accuracy_score(Y_predicted,Y_test)"
   ]
  },
  {
   "cell_type": "markdown",
   "metadata": {},
   "source": [
    "### Now let us use our Trained Model to make Prediction and Sentiment Analysis of News Articles"
   ]
  },
  {
   "cell_type": "markdown",
   "metadata": {},
   "source": [
    "### Sentiment Analysis on `Hindustan Times` News Articles "
   ]
  },
  {
   "cell_type": "code",
   "execution_count": 40,
   "metadata": {},
   "outputs": [
    {
     "name": "stdout",
     "output_type": "stream",
     "text": [
      "[1 0 0 1 2 0 0 0 1 1]\n"
     ]
    }
   ],
   "source": [
    "# Since we have 10 articles of each Channel Index ranges from 4845 to 4845+10\n",
    "\n",
    "Y_predicted_HT = naive_bayes.predict(X_news_data_vectorized[4845:4845+10])\n",
    "\n",
    "print(Y_predicted_HT)"
   ]
  },
  {
   "cell_type": "code",
   "execution_count": 41,
   "metadata": {},
   "outputs": [
    {
     "name": "stdout",
     "output_type": "stream",
     "text": [
      "On an average, Among 10 Top Articles choosen from the `Hindustan Times` News Channels\n",
      "Number of positive sentiment articles present each day is \t 1 \n",
      " Number of negative sentiment articles present each day is \t 5 \n",
      " Number of nuetral sentiment articles present each day is \t 4 \n",
      "\n"
     ]
    }
   ],
   "source": [
    "negative = 0\n",
    "nuetral  = 0\n",
    "positive = 0\n",
    "\n",
    "# Counting Number of Positive, Negative, Nuetral Articles\n",
    "\n",
    "for pred in Y_predicted_HT :\n",
    "    if pred == 0 :\n",
    "        negative+=1\n",
    "    if pred == 1 :\n",
    "        nuetral+=1\n",
    "    if pred == 2 :\n",
    "        positive+=1\n",
    "    \n",
    "print(\"On an average, Among 10 Top Articles choosen from the `Hindustan Times` News Channels\\n\" \n",
    "       \"Number of positive sentiment articles present each day is \\t\", positive, \"\\n\",\n",
    "       \"Number of negative sentiment articles present each day is \\t\", negative, \"\\n\",\n",
    "       \"Number of nuetral sentiment articles present each day is \\t\",  nuetral, \"\\n\",)"
   ]
  },
  {
   "cell_type": "markdown",
   "metadata": {},
   "source": [
    "### Sentiment Analysis on `Deccan Chronicle` News Articles "
   ]
  },
  {
   "cell_type": "code",
   "execution_count": 42,
   "metadata": {},
   "outputs": [
    {
     "name": "stdout",
     "output_type": "stream",
     "text": [
      "[0 2 0 2 1 2 0 1 0 1]\n"
     ]
    }
   ],
   "source": [
    "# Since we have 10 articles of each Channel Index ranges from 4855 to 4855+10 (After Hindustan Times, We have 10 )\n",
    "\n",
    "Y_predicted_DC = naive_bayes.predict(X_news_data_vectorized[4855:4855+10])\n",
    "print(Y_predicted_DC)"
   ]
  },
  {
   "cell_type": "code",
   "execution_count": 43,
   "metadata": {},
   "outputs": [
    {
     "name": "stdout",
     "output_type": "stream",
     "text": [
      "On an average, Among 10 Top Articles choosen from the `Deccan Chronicle` News Channels\n",
      "Number of positive sentiment articles present each day is \t 3 \n",
      " Number of negative sentiment articles present each day is \t 4 \n",
      " Number of nuetral sentiment articles present each day is \t 3 \n",
      "\n"
     ]
    }
   ],
   "source": [
    "negative = 0\n",
    "nuetral  = 0\n",
    "positive = 0\n",
    "\n",
    "# Counting Number of Positive, Negative, Nuetral Articles\n",
    "\n",
    "for pred in Y_predicted_DC :\n",
    "    if pred == 0 :\n",
    "        negative+=1\n",
    "    if pred == 1 :\n",
    "        nuetral+=1\n",
    "    if pred == 2 :\n",
    "        positive+=1\n",
    "    \n",
    "print(\"On an average, Among 10 Top Articles choosen from the `Deccan Chronicle` News Channels\\n\" \n",
    "       \"Number of positive sentiment articles present each day is \\t\", positive, \"\\n\",\n",
    "       \"Number of negative sentiment articles present each day is \\t\", negative, \"\\n\",\n",
    "       \"Number of nuetral sentiment articles present each day is \\t\",  nuetral, \"\\n\",)"
   ]
  },
  {
   "cell_type": "markdown",
   "metadata": {},
   "source": [
    "### Sentiment Analysis on `Times of India` News Articles "
   ]
  },
  {
   "cell_type": "code",
   "execution_count": 44,
   "metadata": {},
   "outputs": [
    {
     "name": "stdout",
     "output_type": "stream",
     "text": [
      "[1 1 0 0 1 1 0 2 2 0]\n"
     ]
    }
   ],
   "source": [
    "# Since we have 10 articles of each Channel Index ranges from 4865 to 4865+10 (After Deccan Chronicle, We have 10 )\n",
    "\n",
    "Y_predicted_TOI = naive_bayes.predict(X_news_data_vectorized[4865:4865+10])\n",
    "print(Y_predicted_TOI)"
   ]
  },
  {
   "cell_type": "code",
   "execution_count": 45,
   "metadata": {},
   "outputs": [
    {
     "name": "stdout",
     "output_type": "stream",
     "text": [
      "On an average, Among 10 Top Articles choosen from the `Times of India` News Channels\n",
      "Number of positive sentiment articles present each day is \t 2 \n",
      " Number of negative sentiment articles present each day is \t 4 \n",
      " Number of nuetral sentiment articles present each day is \t 4 \n",
      "\n"
     ]
    }
   ],
   "source": [
    "negative = 0\n",
    "nuetral  = 0\n",
    "positive = 0\n",
    "\n",
    "# Counting Number of Positive, Negative, Nuetral Articles\n",
    "\n",
    "for pred in Y_predicted_TOI :\n",
    "    if pred == 0 :\n",
    "        negative+=1\n",
    "    if pred == 1 :\n",
    "        nuetral+=1\n",
    "    if pred == 2 :\n",
    "        positive+=1\n",
    "    \n",
    "print(\"On an average, Among 10 Top Articles choosen from the `Times of India` News Channels\\n\" \n",
    "       \"Number of positive sentiment articles present each day is \\t\", positive, \"\\n\",\n",
    "       \"Number of negative sentiment articles present each day is \\t\", negative, \"\\n\",\n",
    "       \"Number of nuetral sentiment articles present each day is \\t\",  nuetral, \"\\n\",)"
   ]
  },
  {
   "cell_type": "markdown",
   "metadata": {},
   "source": [
    "#### Hence We Compared 3 different news channels news and find out How many positive, nuetral and negative sentiment articles are present each day"
   ]
  },
  {
   "cell_type": "markdown",
   "metadata": {},
   "source": [
    "### THE END\n",
    "#### Thank you VERZEO for this Opportunity !   - Sanjay Marreddi"
   ]
  }
 ],
 "metadata": {
  "kernelspec": {
   "display_name": "Python 3",
   "language": "python",
   "name": "python3"
  },
  "language_info": {
   "codemirror_mode": {
    "name": "ipython",
    "version": 3
   },
   "file_extension": ".py",
   "mimetype": "text/x-python",
   "name": "python",
   "nbconvert_exporter": "python",
   "pygments_lexer": "ipython3",
   "version": "3.8.3"
  }
 },
 "nbformat": 4,
 "nbformat_minor": 4
}
