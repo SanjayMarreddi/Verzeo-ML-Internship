{
 "cells": [
  {
   "cell_type": "markdown",
   "metadata": {},
   "source": [
    "# Verzeo - Minor Project (ML-JULY-B1)\n",
    "\n",
    "### Done by : Sanjay Marreddi  \n",
    "### Email Id  : sanjay.marreddi.19041@iitgoa.ac.in\n",
    "    "
   ]
  },
  {
   "cell_type": "markdown",
   "metadata": {},
   "source": [
    "#### First let us import the required Libraries"
   ]
  },
  {
   "cell_type": "code",
   "execution_count": null,
   "metadata": {},
   "outputs": [],
   "source": [
    "import pandas as pd\n",
    "import numpy as np\n",
    "import seaborn as sns\n",
    "import matplotlib.pyplot as plt\n",
    "%matplotlib inline"
   ]
  },
  {
   "cell_type": "markdown",
   "metadata": {},
   "source": [
    "#### Let us read the given Dataset"
   ]
  },
  {
   "cell_type": "code",
   "execution_count": null,
   "metadata": {},
   "outputs": [],
   "source": [
    "movies = pd.read_csv(\"tmdb-movies.csv\")"
   ]
  },
  {
   "cell_type": "markdown",
   "metadata": {},
   "source": [
    "## Cleaning the Data and Performing EDA"
   ]
  },
  {
   "cell_type": "code",
   "execution_count": null,
   "metadata": {},
   "outputs": [],
   "source": [
    "movies.head()"
   ]
  },
  {
   "cell_type": "code",
   "execution_count": null,
   "metadata": {},
   "outputs": [],
   "source": [
    "movies.shape"
   ]
  },
  {
   "cell_type": "code",
   "execution_count": null,
   "metadata": {},
   "outputs": [],
   "source": [
    "movies.columns.tolist() # Storing all the Column Names in a List"
   ]
  },
  {
   "cell_type": "code",
   "execution_count": null,
   "metadata": {},
   "outputs": [],
   "source": [
    "movies.describe()"
   ]
  },
  {
   "cell_type": "code",
   "execution_count": null,
   "metadata": {},
   "outputs": [],
   "source": [
    "movies.info()"
   ]
  },
  {
   "cell_type": "code",
   "execution_count": null,
   "metadata": {},
   "outputs": [],
   "source": [
    "movies.isnull().sum() # Checking the Missing Values in each Column of the DataFrame"
   ]
  },
  {
   "cell_type": "markdown",
   "metadata": {},
   "source": [
    "#### Note: From the results, It can be observed that all the Columns containing NaN are of type Object only"
   ]
  },
  {
   "cell_type": "markdown",
   "metadata": {},
   "source": [
    "## Data Visualisation with seaborn"
   ]
  },
  {
   "cell_type": "markdown",
   "metadata": {},
   "source": [
    "#### Analysing `popularity` feature of the given Movies Dataset"
   ]
  },
  {
   "cell_type": "code",
   "execution_count": null,
   "metadata": {},
   "outputs": [],
   "source": [
    "# Plotting the Distribution Plot along with Gaussian Kernel Density Estimate \n",
    "sns.distplot(movies['popularity'],kde=True,bins=50,color=\"Orange\",hist_kws=dict(edgecolor=\"b\", linewidth=1.5))"
   ]
  },
  {
   "cell_type": "markdown",
   "metadata": {},
   "source": [
    "#### Finding the value of bar using Bin Size"
   ]
  },
  {
   "cell_type": "code",
   "execution_count": null,
   "metadata": {},
   "outputs": [],
   "source": [
    "print(\"Minimum popularity in the data is:\",movies.popularity.min())\n",
    "print(\"Maximum popularity in the data is:\",movies.popularity.max())\n",
    "print(\"Range of popularity is from {} to {}, value is {}\".format(movies.popularity.min(),movies.popularity.max(),movies.popularity.max()-movies.popularity.min()))\n",
    "print(\"I used a bin size of 50, so each bar corresponds to the value of:\",(movies.popularity.max()-movies.popularity.min())/50)"
   ]
  },
  {
   "cell_type": "code",
   "execution_count": null,
   "metadata": {},
   "outputs": [],
   "source": [
    "# Plotting only the Histogram using Different Bin Size\n",
    "sns.distplot(movies['popularity'],kde=False,hist=True,bins=20,color= \"Orange\",hist_kws=dict(edgecolor=\"b\", linewidth=1.0))"
   ]
  },
  {
   "cell_type": "code",
   "execution_count": null,
   "metadata": {},
   "outputs": [],
   "source": [
    "# Plotting the Box Plot \n",
    "sns.boxplot(movies['popularity'],color =\"Orange\")\n",
    "\n",
    "# Evaluating the Percentiles and Interquartile range (IQR)\n",
    "Q3 = movies.popularity.quantile(.75)\n",
    "Q1 = movies.popularity.quantile(.25)\n",
    "IQR = Q3 - Q1\n",
    "\n",
    "# Finding the Median\n",
    "Median = movies.popularity.median()\n",
    "print(\"Q1 Value:\",Q1)\n",
    "print(\"Median Value:\",movies.popularity.median())\n",
    "print(\"Q3 Value:\",Q3)\n",
    "print(\"Upper whisker limit:\",(Q3 + 1.5*IQR))\n",
    "print(\"Lower whisker limit:\",(Q1 - 1.5*IQR))"
   ]
  },
  {
   "cell_type": "code",
   "execution_count": null,
   "metadata": {},
   "outputs": [],
   "source": [
    "# Checking the Symmetry of the popularity Feature\n",
    "sns.violinplot(x='popularity',data=movies,color =\"Orange\")"
   ]
  },
  {
   "cell_type": "markdown",
   "metadata": {},
   "source": [
    "#### Analysing `budget` feature of the given Movies Dataset"
   ]
  },
  {
   "cell_type": "code",
   "execution_count": null,
   "metadata": {},
   "outputs": [],
   "source": [
    "# Plotting the Distribution Plot along with Gaussian Kernel Density Estimate \n",
    "sns.distplot(movies['budget'],kde=True,bins=20,color=\"green\")"
   ]
  },
  {
   "cell_type": "markdown",
   "metadata": {},
   "source": [
    "#### Finding the value of bar using Bin Size"
   ]
  },
  {
   "cell_type": "code",
   "execution_count": null,
   "metadata": {},
   "outputs": [],
   "source": [
    "print(\"Minimum budget in the data is:\",movies.budget.min())\n",
    "print(\"Maximum budget in the data is:\",movies.budget.max())\n",
    "print(\"Range of budget is from {} to {}, value is {}\".format(movies.budget.min(),movies.budget.max(),movies.budget.max()-movies.budget.min()))\n",
    "print(\"I used a bin size of 20, so each bar corresponds to the value of:\",(movies.budget.max()-movies.budget.min())/20)"
   ]
  },
  {
   "cell_type": "code",
   "execution_count": null,
   "metadata": {},
   "outputs": [],
   "source": [
    "# Plotting only the Histogram using Different Bin Size\n",
    "sns.distplot(movies['budget'],kde=False,hist=True,bins=10,color= \"Green\",hist_kws=dict(edgecolor=\"g\", linewidth=1.0))"
   ]
  },
  {
   "cell_type": "code",
   "execution_count": null,
   "metadata": {},
   "outputs": [],
   "source": [
    "# Plotting the Box Plot \n",
    "sns.boxplot(movies['budget'],color =\"Green\")\n",
    "\n",
    "# Evaluating the Percentiles and Interquartile range (IQR)\n",
    "Q3 = movies.budget.quantile(.75)\n",
    "Q1 = movies.budget.quantile(.25)\n",
    "IQR = Q3 - Q1\n",
    "\n",
    "# Finding the Median\n",
    "Median = movies.budget.median()\n",
    "print(\"Q1 Value:\",Q1)\n",
    "print(\"Median Value:\",movies.budget.median())\n",
    "print(\"Q3 Value:\",Q3)\n",
    "print(\"Upper whisker limit:\",(Q3 + 1.5*IQR))\n",
    "print(\"Lower whisker limit:\",(Q1 - 1.5*IQR))"
   ]
  },
  {
   "cell_type": "code",
   "execution_count": null,
   "metadata": {},
   "outputs": [],
   "source": [
    "# Checking the Symmetry of the budget Feature\n",
    "sns.violinplot(y='budget',data=movies,color=\"Green\")"
   ]
  },
  {
   "cell_type": "markdown",
   "metadata": {},
   "source": [
    "#### Combined Plots of `budget` and `popularity` Features of the given Movies Dataset"
   ]
  },
  {
   "cell_type": "code",
   "execution_count": null,
   "metadata": {},
   "outputs": [],
   "source": [
    "sns.jointplot(x=\"budget\", y=\"popularity\", data=movies,size=10)"
   ]
  },
  {
   "cell_type": "code",
   "execution_count": null,
   "metadata": {},
   "outputs": [],
   "source": [
    "sns.lmplot('budget', 'popularity',data=movies,order=2)"
   ]
  },
  {
   "cell_type": "markdown",
   "metadata": {},
   "source": [
    "### Heatmaps\n",
    "Using **Correlation** to measure how strong a relationship is between two variables. "
   ]
  },
  {
   "cell_type": "code",
   "execution_count": null,
   "metadata": {},
   "outputs": [],
   "source": [
    "movies.corr()"
   ]
  },
  {
   "cell_type": "code",
   "execution_count": null,
   "metadata": {},
   "outputs": [],
   "source": [
    "# HaetMap of the Correlation Matrix\n",
    "sns.heatmap(movies.corr())"
   ]
  },
  {
   "cell_type": "code",
   "execution_count": null,
   "metadata": {},
   "outputs": [],
   "source": [
    "sns.pairplot(movies)"
   ]
  },
  {
   "cell_type": "markdown",
   "metadata": {},
   "source": [
    "#### Preprocessing the Outliers in `budget` feature of the given DataSet"
   ]
  },
  {
   "cell_type": "markdown",
   "metadata": {},
   "source": [
    "  #### Using IQR"
   ]
  },
  {
   "cell_type": "code",
   "execution_count": null,
   "metadata": {},
   "outputs": [],
   "source": [
    "movies.budget.median()"
   ]
  },
  {
   "cell_type": "code",
   "execution_count": null,
   "metadata": {},
   "outputs": [],
   "source": [
    "sns.boxplot(x = movies['budget'])"
   ]
  },
  {
   "cell_type": "code",
   "execution_count": null,
   "metadata": {},
   "outputs": [],
   "source": [
    "Q1 = movies.budget.quantile(0.25)\n",
    "print(Q1)\n",
    "Q3 = movies.budget.quantile(0.75)\n",
    "print(Q3)\n",
    "IQR = Q3 - Q1\n",
    "print(IQR)\n",
    "print(Q1 - (1.5 * IQR))\n",
    "print(Q3 + (1.5 * IQR))"
   ]
  },
  {
   "cell_type": "markdown",
   "metadata": {},
   "source": [
    "#### Imputation"
   ]
  },
  {
   "cell_type": "code",
   "execution_count": null,
   "metadata": {},
   "outputs": [],
   "source": [
    "movies[~((movies.budget < (Q1 - 1.5 * IQR)) |(movies.budget > (Q3 + 1.5 * IQR)))].budget.median()"
   ]
  },
  {
   "cell_type": "code",
   "execution_count": null,
   "metadata": {},
   "outputs": [],
   "source": [
    "movies.loc[movies['budget']< (Q3 + (1.5 * IQR)), 'budget'].median()"
   ]
  },
  {
   "cell_type": "code",
   "execution_count": null,
   "metadata": {},
   "outputs": [],
   "source": [
    "median = movies.loc[movies['budget']< (Q3 + (1.5 * IQR)), 'budget'].median()\n",
    "movies.loc[movies.budget > (Q3 + (1.5 * IQR)) , 'budget'] = median"
   ]
  },
  {
   "cell_type": "code",
   "execution_count": null,
   "metadata": {},
   "outputs": [],
   "source": [
    "sns.boxplot(x = movies['budget'])"
   ]
  },
  {
   "cell_type": "markdown",
   "metadata": {},
   "source": [
    "#### Removing the Less Important Features\n"
   ]
  },
  {
   "cell_type": "code",
   "execution_count": null,
   "metadata": {},
   "outputs": [],
   "source": [
    "movies = pd.read_csv(\"tmdb-movies.csv\")\n",
    "movies_copy= movies.copy()"
   ]
  },
  {
   "cell_type": "code",
   "execution_count": null,
   "metadata": {},
   "outputs": [],
   "source": [
    "movies = movies[['release_year','cast','budget','revenue','genres','runtime','original_title','production_companies']]"
   ]
  },
  {
   "cell_type": "code",
   "execution_count": null,
   "metadata": {},
   "outputs": [],
   "source": [
    "movies = movies[movies['budget'] != 0]\n",
    "movies = movies[movies['revenue'] != 0]"
   ]
  },
  {
   "cell_type": "markdown",
   "metadata": {},
   "source": [
    "#### Removing the rows with NaN Values"
   ]
  },
  {
   "cell_type": "code",
   "execution_count": null,
   "metadata": {},
   "outputs": [],
   "source": [
    "movies=movies.dropna()\n",
    "movies.shape"
   ]
  },
  {
   "cell_type": "markdown",
   "metadata": {},
   "source": [
    "## Solving the Given Questions"
   ]
  },
  {
   "cell_type": "markdown",
   "metadata": {},
   "source": [
    "### 1) Which are the movies with the third lowest and third highest budget?"
   ]
  },
  {
   "cell_type": "code",
   "execution_count": null,
   "metadata": {},
   "outputs": [],
   "source": [
    "\n",
    "print(\"The third lowest budget is \",movies.sort_values(['budget']).iloc[2][\"budget\"])\n",
    "print(\"The movie with the third lowest budget is :- \", movies.sort_values(['budget']).iloc[2]['original_title'],\".\")\n",
    "print(\"-\"*120,\"\\n\")\n",
    "print(\"The third highest budget is \",movies.sort_values(['budget']).iloc[-3][\"budget\"])\n",
    "print(\"The movie with the third highest budget is :- \",movies.sort_values(['budget']).iloc[-3]['original_title'],\".\")\n",
    "\n"
   ]
  },
  {
   "cell_type": "markdown",
   "metadata": {},
   "source": [
    "### 2) What is the average number of words in movie titles between the year 2000-2005?"
   ]
  },
  {
   "cell_type": "code",
   "execution_count": null,
   "metadata": {},
   "outputs": [],
   "source": [
    "movies_req = movies[movies['release_year'].isin([2000, 2001, 2002, 2003, 2004, 2005])]\n",
    "\n",
    "words = 0\n",
    "\n",
    "# Going through each row which has \"release_year\" between 2000-2005.\n",
    "for i in range(movies_req.shape[0]):\n",
    "    \n",
    "    # Splitting based on the Empty Space\n",
    "    list_of_words = movies_req['original_title'].values[i].split(' ')\n",
    "    \n",
    "    words = words + len(list_of_words)\n",
    "\n",
    "# Computing the Average\n",
    "avg = words/movies_req.shape[0]\n",
    "\n",
    "# Rounding off the Number\n",
    "avg = round(avg)"
   ]
  },
  {
   "cell_type": "code",
   "execution_count": null,
   "metadata": {},
   "outputs": [],
   "source": [
    "print(\"The average number of words in movie titles between the year 2000-2005 are \", avg,\".\")\n"
   ]
  },
  {
   "cell_type": "markdown",
   "metadata": {},
   "source": [
    "### 3) What is the most common Genre for Vin Diesel & Emma Watson movies?"
   ]
  },
  {
   "cell_type": "code",
   "execution_count": null,
   "metadata": {},
   "outputs": [],
   "source": [
    "# Initialise two empty Dictionaries \n",
    "vd={}\n",
    "em={}\n",
    "\n",
    "# Go through each row of DataFrame\n",
    "for j in range(int(movies_copy.shape[0])):\n",
    "    \n",
    "    # Ignore if Values are Missing at \"cast\"feature \n",
    "    if type(movies_copy.cast[j]) == str:\n",
    "        \n",
    "        # Creating a Dict that has Combined String of Genres related to movies_copy in which \"Vin Diesel\" is present \n",
    "        if \"Vin Diesel\" in movies_copy.cast[j] :\n",
    "            if movies_copy.genres[j] in vd:\n",
    "                vd[movies_copy.genres[j]]+=1\n",
    "            else:\n",
    "                vd[movies_copy.genres[j]] = 1\n",
    "        \n",
    "        # Creating a Dict that has Combined String of Genres related to movies_copy in which \"Emma Watson\" is present \n",
    "        if \"Emma Watson\" in movies_copy.cast[j] :\n",
    "            if movies_copy.genres[j] in em:\n",
    "                em[movies_copy.genres[j]]+=1\n",
    "            else:\n",
    "                em[movies_copy.genres[j]] = 1\n",
    "\n",
    "        \n",
    "\n",
    "V={}\n",
    "\n",
    "# Finding the count of each genre in entire Dataset using previous dictionaries related \n",
    "# to movies_copy in which \"Vin Diesel\" is present \n",
    "\n",
    "for k,v in vd.items():\n",
    "    tem= k.split(\"|\") # Splitting based on \"|\" as delimeter\n",
    "    for ea in tem:\n",
    "        if ea in V:\n",
    "            V[ea]+=1*int(v)\n",
    "            \n",
    "        else:\n",
    "            V[ea]=1*int(v)\n",
    "    \n",
    "    \n",
    "            \n",
    "E={}\n",
    "\n",
    "# Finding the count of each genre in entire Dataset using previous dictionaries related \n",
    "# to movies_copy in which \"Vin Diesel\" is present \n",
    "\n",
    "for k2,v2 in em.items():\n",
    "    tem2= k2.split(\"|\") # Splitting based on \"|\" as delimeter\n",
    "    for ea in tem2:\n",
    "        if ea in E:\n",
    "            E[ea]+=1*int(v2)\n",
    "            \n",
    "        else:\n",
    "            E[ea]=1*int(v2)\n",
    "            "
   ]
  },
  {
   "cell_type": "code",
   "execution_count": null,
   "metadata": {
    "scrolled": true
   },
   "outputs": [],
   "source": [
    "# Finding the Keys with max value of Genre Count \n",
    "\n",
    "Vmax= max(V, key=V.get)\n",
    "Emax= max(E, key=E.get)\n",
    "print(V)\n",
    "print(\"The most common Genre for Vin Diesel :\",Vmax)\n",
    "print(E)\n",
    "print(\"The most common Genre for Emma Watson :\",Emax,\"and Adventure\")"
   ]
  },
  {
   "cell_type": "markdown",
   "metadata": {},
   "source": [
    "### 4) Which are the movies with most and least earned revenue?"
   ]
  },
  {
   "cell_type": "code",
   "execution_count": null,
   "metadata": {},
   "outputs": [],
   "source": [
    "least = movies.sort_values(['revenue']).iloc[0][\"revenue\"]\n",
    "print(\"The least earned revenue value is\",least)\n",
    "\n",
    "print(\"The movies with the least earned revenue are :-\")\n",
    "for i in range(movies.shape[0]//1000):\n",
    "    if movies.sort_values(['revenue']).iloc[i]['revenue'] == least:\n",
    "        print(movies.sort_values(['revenue']).iloc[i]['original_title'])\n",
    "        \n",
    "print(\"-\"*120,\"\\n\")\n",
    "\n",
    "most = movies.sort_values(['revenue']).iloc[-1][\"revenue\"]\n",
    "print(\"The most earned revenue value is\", most)\n",
    "\n",
    "print(\"The movie with the most earned revenue is : \", movies.sort_values(['revenue']).iloc[-1]['original_title'])"
   ]
  },
  {
   "cell_type": "markdown",
   "metadata": {},
   "source": [
    "###  5) What is the average runtime of movies in the year 2006?"
   ]
  },
  {
   "cell_type": "code",
   "execution_count": null,
   "metadata": {},
   "outputs": [],
   "source": [
    "run = movies.loc[ (movies[\"release_year\"]== 2006), \"runtime\" ].tolist()"
   ]
  },
  {
   "cell_type": "code",
   "execution_count": null,
   "metadata": {},
   "outputs": [],
   "source": [
    "avg= np.mean(run)"
   ]
  },
  {
   "cell_type": "code",
   "execution_count": null,
   "metadata": {},
   "outputs": [],
   "source": [
    "print(\"The average runtime of movies in the year 2006 is :\",avg)"
   ]
  },
  {
   "cell_type": "markdown",
   "metadata": {},
   "source": [
    "### 6) Name any 3 production companies which have invested money in worse revenue movies?"
   ]
  },
  {
   "cell_type": "code",
   "execution_count": null,
   "metadata": {},
   "outputs": [],
   "source": [
    "worse_revenue= movies.loc[movies[\"revenue\"]==least]"
   ]
  },
  {
   "cell_type": "code",
   "execution_count": null,
   "metadata": {},
   "outputs": [],
   "source": [
    "companies = worse_revenue['production_companies'].tolist()"
   ]
  },
  {
   "cell_type": "code",
   "execution_count": null,
   "metadata": {},
   "outputs": [],
   "source": [
    "d={}\n",
    "\n",
    "for i in companies:\n",
    "    tem = i.split(\"|\")\n",
    "    print(tem)\n",
    "    for m in tem:\n",
    "        if m in d:\n",
    "            d[m]+=1\n",
    "\n",
    "        else:\n",
    "            d[m]=1"
   ]
  },
  {
   "cell_type": "code",
   "execution_count": null,
   "metadata": {},
   "outputs": [],
   "source": [
    "print(list(d)[:3])"
   ]
  },
  {
   "cell_type": "markdown",
   "metadata": {},
   "source": [
    "### The End - Sanjay Marreddi\n"
   ]
  }
 ],
 "metadata": {
  "kernelspec": {
   "display_name": "Python 3",
   "language": "python",
   "name": "python3"
  },
  "language_info": {
   "codemirror_mode": {
    "name": "ipython",
    "version": 3
   },
   "file_extension": ".py",
   "mimetype": "text/x-python",
   "name": "python",
   "nbconvert_exporter": "python",
   "pygments_lexer": "ipython3",
   "version": "3.8.3"
  }
 },
 "nbformat": 4,
 "nbformat_minor": 4
}
